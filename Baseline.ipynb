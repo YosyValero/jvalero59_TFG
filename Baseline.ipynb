{
  "nbformat": 4,
  "nbformat_minor": 0,
  "metadata": {
    "colab": {
      "provenance": [],
      "authorship_tag": "ABX9TyPZVRB/BX/fRMHIashzV8tQ",
      "include_colab_link": true
    },
    "kernelspec": {
      "name": "python3",
      "display_name": "Python 3"
    },
    "language_info": {
      "name": "python"
    }
  },
  "cells": [
    {
      "cell_type": "markdown",
      "metadata": {
        "id": "view-in-github",
        "colab_type": "text"
      },
      "source": [
        "<a href=\"https://colab.research.google.com/github/YosyValero/jvalero59_TFG/blob/main/Baseline.ipynb\" target=\"_parent\"><img src=\"https://colab.research.google.com/assets/colab-badge.svg\" alt=\"Open In Colab\"/></a>"
      ]
    },
    {
      "cell_type": "markdown",
      "source": [
        "# Baseline TFG"
      ],
      "metadata": {
        "id": "WY1THrOyGrbc"
      }
    },
    {
      "cell_type": "markdown",
      "source": [
        "### Se diseña un modelo base como primera parte del Trabajo Fin de Grado (TFG). El trabajo versa sobre el Procesamiento de Lenguaje Natural y en concreto en el Reconocimiento de Entidades Nombradas (NER)"
      ],
      "metadata": {
        "id": "kzxDyuqLJyqr"
      }
    },
    {
      "cell_type": "code",
      "source": [
        "from google.colab import drive\n",
        "drive.mount('/content/drive')"
      ],
      "metadata": {
        "id": "xT2E9pvtQh8Y"
      },
      "execution_count": null,
      "outputs": []
    },
    {
      "cell_type": "code",
      "source": [
        "import numpy as np\n",
        "import pandas as pd"
      ],
      "metadata": {
        "id": "_3mOeO3iGylD"
      },
      "execution_count": 13,
      "outputs": []
    },
    {
      "cell_type": "code",
      "source": [
        "path_tsv = '/content/drive/MyDrive/Dataset/tsv/'"
      ],
      "metadata": {
        "id": "hH034l0zPz7_"
      },
      "execution_count": 14,
      "outputs": []
    },
    {
      "cell_type": "code",
      "source": [
        "df_dissea =  pd.read_csv(path_tsv + 'dissea.tsv', sep='\\t', header=0).loc[:, ('tweets_id', 'type')].rename(columns={'tweets_id': 'tweet_id'})"
      ],
      "metadata": {
        "id": "uleeDwThUX26"
      },
      "execution_count": 15,
      "outputs": []
    },
    {
      "cell_type": "code",
      "source": [
        "df_prof =  pd.read_csv(path_tsv + 'prof.tsv', sep='\\t', header=0).loc[:, ('tweet_id', 'type')]"
      ],
      "metadata": {
        "id": "8YdwbjLAWcZ0"
      },
      "execution_count": 16,
      "outputs": []
    },
    {
      "cell_type": "code",
      "source": [
        "df_prof.drop(df_prof[df_prof['type']=='-'].index, inplace=True)"
      ],
      "metadata": {
        "id": "Wpoj9mOY1NxX"
      },
      "execution_count": 17,
      "outputs": []
    },
    {
      "cell_type": "code",
      "source": [
        "df_prof = df_prof.replace(['PROFESION', 'SITUACION_LABORAL', 'ACTIVIDAD', 'FIGURATIVA'], ['NO_ENFERMEDAD', 'NO_ENFERMEDAD', 'NO_ENFERMEDAD', 'NO_ENFERMEDAD'])"
      ],
      "metadata": {
        "id": "DqlmZ5hvd-NZ"
      },
      "execution_count": 18,
      "outputs": []
    },
    {
      "cell_type": "code",
      "source": [
        "df_prof_norep = df_prof.drop_duplicates(ignore_index=True)"
      ],
      "metadata": {
        "id": "IJgf8uPRW4qO"
      },
      "execution_count": 19,
      "outputs": []
    },
    {
      "cell_type": "code",
      "source": [
        "df_disse_norep = df_dissea.drop_duplicates(ignore_index=True)"
      ],
      "metadata": {
        "id": "Ets8SUnuXFGa"
      },
      "execution_count": 20,
      "outputs": []
    },
    {
      "cell_type": "code",
      "source": [
        "muestras_min = min([len(df_disse_norep), len(df_prof_norep)])"
      ],
      "metadata": {
        "id": "q4YS-Ail8rhO"
      },
      "execution_count": 21,
      "outputs": []
    },
    {
      "cell_type": "code",
      "source": [
        "muestras = 50"
      ],
      "metadata": {
        "id": "U0oTuuHM9PL6"
      },
      "execution_count": 22,
      "outputs": []
    },
    {
      "cell_type": "code",
      "source": [
        "if muestras_min < muestras:\n",
        "  muestras = muestras_min"
      ],
      "metadata": {
        "id": "HYM9QyOs9Tpe"
      },
      "execution_count": 23,
      "outputs": []
    },
    {
      "cell_type": "code",
      "source": [
        "df_xamples_diss = df_disse_norep.head(muestras)"
      ],
      "metadata": {
        "id": "yMARCWkE-rMp"
      },
      "execution_count": 24,
      "outputs": []
    },
    {
      "cell_type": "code",
      "source": [
        "df_xamples_nodiss = df_prof_norep.head(muestras)"
      ],
      "metadata": {
        "id": "rvS4Gswk-ro5"
      },
      "execution_count": 25,
      "outputs": []
    },
    {
      "cell_type": "code",
      "source": [
        "df_xamples_nodiss = df_xamples_nodiss.rename(index=lambda x: x + muestras)"
      ],
      "metadata": {
        "id": "6GOQ8tqf_gPC"
      },
      "execution_count": 26,
      "outputs": []
    },
    {
      "cell_type": "code",
      "source": [
        "df_tot = pd.concat([df_xamples_diss, df_xamples_nodiss])\n"
      ],
      "metadata": {
        "id": "4VQzl_Q5Wfbc"
      },
      "execution_count": 27,
      "outputs": []
    },
    {
      "cell_type": "code",
      "source": [
        "df_tot"
      ],
      "metadata": {
        "id": "0wprg7-AL6s5",
        "colab": {
          "base_uri": "https://localhost:8080/",
          "height": 424
        },
        "outputId": "dffa87a8-31cb-43a8-e66a-1a59f9cffd05"
      },
      "execution_count": 28,
      "outputs": [
        {
          "output_type": "execute_result",
          "data": {
            "text/plain": [
              "               tweet_id           type\n",
              "0   1357198223706894339     ENFERMEDAD\n",
              "1   1494382407398662147     ENFERMEDAD\n",
              "2   1478289344565755910     ENFERMEDAD\n",
              "3   1476287203424800781     ENFERMEDAD\n",
              "4   1269536913259671559     ENFERMEDAD\n",
              "..                  ...            ...\n",
              "95  1242946691428495365  NO_ENFERMEDAD\n",
              "96  1252570761312829440  NO_ENFERMEDAD\n",
              "97  1251429071705247744  NO_ENFERMEDAD\n",
              "98  1288737608160419840  NO_ENFERMEDAD\n",
              "99  1258315237675216896  NO_ENFERMEDAD\n",
              "\n",
              "[100 rows x 2 columns]"
            ],
            "text/html": [
              "\n",
              "  <div id=\"df-99b224df-51a5-4eba-bed4-97f73a215cce\">\n",
              "    <div class=\"colab-df-container\">\n",
              "      <div>\n",
              "<style scoped>\n",
              "    .dataframe tbody tr th:only-of-type {\n",
              "        vertical-align: middle;\n",
              "    }\n",
              "\n",
              "    .dataframe tbody tr th {\n",
              "        vertical-align: top;\n",
              "    }\n",
              "\n",
              "    .dataframe thead th {\n",
              "        text-align: right;\n",
              "    }\n",
              "</style>\n",
              "<table border=\"1\" class=\"dataframe\">\n",
              "  <thead>\n",
              "    <tr style=\"text-align: right;\">\n",
              "      <th></th>\n",
              "      <th>tweet_id</th>\n",
              "      <th>type</th>\n",
              "    </tr>\n",
              "  </thead>\n",
              "  <tbody>\n",
              "    <tr>\n",
              "      <th>0</th>\n",
              "      <td>1357198223706894339</td>\n",
              "      <td>ENFERMEDAD</td>\n",
              "    </tr>\n",
              "    <tr>\n",
              "      <th>1</th>\n",
              "      <td>1494382407398662147</td>\n",
              "      <td>ENFERMEDAD</td>\n",
              "    </tr>\n",
              "    <tr>\n",
              "      <th>2</th>\n",
              "      <td>1478289344565755910</td>\n",
              "      <td>ENFERMEDAD</td>\n",
              "    </tr>\n",
              "    <tr>\n",
              "      <th>3</th>\n",
              "      <td>1476287203424800781</td>\n",
              "      <td>ENFERMEDAD</td>\n",
              "    </tr>\n",
              "    <tr>\n",
              "      <th>4</th>\n",
              "      <td>1269536913259671559</td>\n",
              "      <td>ENFERMEDAD</td>\n",
              "    </tr>\n",
              "    <tr>\n",
              "      <th>...</th>\n",
              "      <td>...</td>\n",
              "      <td>...</td>\n",
              "    </tr>\n",
              "    <tr>\n",
              "      <th>95</th>\n",
              "      <td>1242946691428495365</td>\n",
              "      <td>NO_ENFERMEDAD</td>\n",
              "    </tr>\n",
              "    <tr>\n",
              "      <th>96</th>\n",
              "      <td>1252570761312829440</td>\n",
              "      <td>NO_ENFERMEDAD</td>\n",
              "    </tr>\n",
              "    <tr>\n",
              "      <th>97</th>\n",
              "      <td>1251429071705247744</td>\n",
              "      <td>NO_ENFERMEDAD</td>\n",
              "    </tr>\n",
              "    <tr>\n",
              "      <th>98</th>\n",
              "      <td>1288737608160419840</td>\n",
              "      <td>NO_ENFERMEDAD</td>\n",
              "    </tr>\n",
              "    <tr>\n",
              "      <th>99</th>\n",
              "      <td>1258315237675216896</td>\n",
              "      <td>NO_ENFERMEDAD</td>\n",
              "    </tr>\n",
              "  </tbody>\n",
              "</table>\n",
              "<p>100 rows × 2 columns</p>\n",
              "</div>\n",
              "      <button class=\"colab-df-convert\" onclick=\"convertToInteractive('df-99b224df-51a5-4eba-bed4-97f73a215cce')\"\n",
              "              title=\"Convert this dataframe to an interactive table.\"\n",
              "              style=\"display:none;\">\n",
              "        \n",
              "  <svg xmlns=\"http://www.w3.org/2000/svg\" height=\"24px\"viewBox=\"0 0 24 24\"\n",
              "       width=\"24px\">\n",
              "    <path d=\"M0 0h24v24H0V0z\" fill=\"none\"/>\n",
              "    <path d=\"M18.56 5.44l.94 2.06.94-2.06 2.06-.94-2.06-.94-.94-2.06-.94 2.06-2.06.94zm-11 1L8.5 8.5l.94-2.06 2.06-.94-2.06-.94L8.5 2.5l-.94 2.06-2.06.94zm10 10l.94 2.06.94-2.06 2.06-.94-2.06-.94-.94-2.06-.94 2.06-2.06.94z\"/><path d=\"M17.41 7.96l-1.37-1.37c-.4-.4-.92-.59-1.43-.59-.52 0-1.04.2-1.43.59L10.3 9.45l-7.72 7.72c-.78.78-.78 2.05 0 2.83L4 21.41c.39.39.9.59 1.41.59.51 0 1.02-.2 1.41-.59l7.78-7.78 2.81-2.81c.8-.78.8-2.07 0-2.86zM5.41 20L4 18.59l7.72-7.72 1.47 1.35L5.41 20z\"/>\n",
              "  </svg>\n",
              "      </button>\n",
              "      \n",
              "  <style>\n",
              "    .colab-df-container {\n",
              "      display:flex;\n",
              "      flex-wrap:wrap;\n",
              "      gap: 12px;\n",
              "    }\n",
              "\n",
              "    .colab-df-convert {\n",
              "      background-color: #E8F0FE;\n",
              "      border: none;\n",
              "      border-radius: 50%;\n",
              "      cursor: pointer;\n",
              "      display: none;\n",
              "      fill: #1967D2;\n",
              "      height: 32px;\n",
              "      padding: 0 0 0 0;\n",
              "      width: 32px;\n",
              "    }\n",
              "\n",
              "    .colab-df-convert:hover {\n",
              "      background-color: #E2EBFA;\n",
              "      box-shadow: 0px 1px 2px rgba(60, 64, 67, 0.3), 0px 1px 3px 1px rgba(60, 64, 67, 0.15);\n",
              "      fill: #174EA6;\n",
              "    }\n",
              "\n",
              "    [theme=dark] .colab-df-convert {\n",
              "      background-color: #3B4455;\n",
              "      fill: #D2E3FC;\n",
              "    }\n",
              "\n",
              "    [theme=dark] .colab-df-convert:hover {\n",
              "      background-color: #434B5C;\n",
              "      box-shadow: 0px 1px 3px 1px rgba(0, 0, 0, 0.15);\n",
              "      filter: drop-shadow(0px 1px 2px rgba(0, 0, 0, 0.3));\n",
              "      fill: #FFFFFF;\n",
              "    }\n",
              "  </style>\n",
              "\n",
              "      <script>\n",
              "        const buttonEl =\n",
              "          document.querySelector('#df-99b224df-51a5-4eba-bed4-97f73a215cce button.colab-df-convert');\n",
              "        buttonEl.style.display =\n",
              "          google.colab.kernel.accessAllowed ? 'block' : 'none';\n",
              "\n",
              "        async function convertToInteractive(key) {\n",
              "          const element = document.querySelector('#df-99b224df-51a5-4eba-bed4-97f73a215cce');\n",
              "          const dataTable =\n",
              "            await google.colab.kernel.invokeFunction('convertToInteractive',\n",
              "                                                     [key], {});\n",
              "          if (!dataTable) return;\n",
              "\n",
              "          const docLinkHtml = 'Like what you see? Visit the ' +\n",
              "            '<a target=\"_blank\" href=https://colab.research.google.com/notebooks/data_table.ipynb>data table notebook</a>'\n",
              "            + ' to learn more about interactive tables.';\n",
              "          element.innerHTML = '';\n",
              "          dataTable['output_type'] = 'display_data';\n",
              "          await google.colab.output.renderOutput(dataTable, element);\n",
              "          const docLink = document.createElement('div');\n",
              "          docLink.innerHTML = docLinkHtml;\n",
              "          element.appendChild(docLink);\n",
              "        }\n",
              "      </script>\n",
              "    </div>\n",
              "  </div>\n",
              "  "
            ]
          },
          "metadata": {},
          "execution_count": 28
        }
      ]
    },
    {
      "cell_type": "code",
      "source": [
        "df_tot.insert(2, 'content_tuit', value='')"
      ],
      "metadata": {
        "id": "SA29vXs15MB7"
      },
      "execution_count": 29,
      "outputs": []
    },
    {
      "cell_type": "code",
      "source": [
        "def get_tuit(type_tuit, name_tuit):\n",
        "  sub_path = path_tsv + 'train-valid-txt-files/'\n",
        "  if type_tuit == 'ENFERMEDAD':\n",
        "    path_tuit = sub_path + 'dissea'\n",
        "  else:\n",
        "    path_tuit = sub_path + 'prof'\n",
        "\n",
        "  path_tuit = path_tuit + '/training/' + name_tuit + '.txt'\n",
        "  tuit = open(path_tuit, mode='r', encoding='utf-8')\n",
        "  content_tuit = tuit.read()\n",
        "  tuit.close()\n",
        "\n",
        "  return content_tuit"
      ],
      "metadata": {
        "id": "Wu5FZ0wWGj7h"
      },
      "execution_count": 30,
      "outputs": []
    },
    {
      "cell_type": "code",
      "source": [
        "for i in range(len(df_tot)):\n",
        "    name_tuit = df_tot.loc[i, 'tweet_id']\n",
        "    type_tuit = df_tot.loc[i, 'type']\n",
        "    df_tot.at[i, 'content_tuit'] = get_tuit(type_tuit, str(name_tuit))"
      ],
      "metadata": {
        "id": "P14yy2l2VZCc"
      },
      "execution_count": 31,
      "outputs": []
    },
    {
      "cell_type": "code",
      "source": [
        "df_tot"
      ],
      "metadata": {
        "id": "1nosMAU_Yj44",
        "colab": {
          "base_uri": "https://localhost:8080/",
          "height": 424
        },
        "outputId": "3780849f-8bf4-4b93-8062-6e2ee4ecfda3"
      },
      "execution_count": 32,
      "outputs": [
        {
          "output_type": "execute_result",
          "data": {
            "text/plain": [
              "               tweet_id           type  \\\n",
              "0   1357198223706894339     ENFERMEDAD   \n",
              "1   1494382407398662147     ENFERMEDAD   \n",
              "2   1478289344565755910     ENFERMEDAD   \n",
              "3   1476287203424800781     ENFERMEDAD   \n",
              "4   1269536913259671559     ENFERMEDAD   \n",
              "..                  ...            ...   \n",
              "95  1242946691428495365  NO_ENFERMEDAD   \n",
              "96  1252570761312829440  NO_ENFERMEDAD   \n",
              "97  1251429071705247744  NO_ENFERMEDAD   \n",
              "98  1288737608160419840  NO_ENFERMEDAD   \n",
              "99  1258315237675216896  NO_ENFERMEDAD   \n",
              "\n",
              "                                         content_tuit  \n",
              "0   No sé si es alergia, covid o gripe, ya solo es...  \n",
              "1   ADOLESCENTES CON DIABETES\\n\\nHola!\\nMe llamo E...  \n",
              "2   De niño y adulto me vacunaron contra el saramp...  \n",
              "3   Un ingreso por depresión debería entenderse co...  \n",
              "4   Santiago, desde Córdoba no me enteré que estuv...  \n",
              "..                                                ...  \n",
              "95  Margarita Salas, bioquímica pionera descubrió ...  \n",
              "96  Mientras hace negocio vendiendo mascarillas, p...  \n",
              "97  Libertad ya!!!  Vea el documental de ABC donde...  \n",
              "98  Limitados los aforos en todos los lugares de E...  \n",
              "99  Encuentran muerto a tiros a un investigador ch...  \n",
              "\n",
              "[100 rows x 3 columns]"
            ],
            "text/html": [
              "\n",
              "  <div id=\"df-195dc9fa-3e19-4df5-b8f1-cebb6f8b40db\">\n",
              "    <div class=\"colab-df-container\">\n",
              "      <div>\n",
              "<style scoped>\n",
              "    .dataframe tbody tr th:only-of-type {\n",
              "        vertical-align: middle;\n",
              "    }\n",
              "\n",
              "    .dataframe tbody tr th {\n",
              "        vertical-align: top;\n",
              "    }\n",
              "\n",
              "    .dataframe thead th {\n",
              "        text-align: right;\n",
              "    }\n",
              "</style>\n",
              "<table border=\"1\" class=\"dataframe\">\n",
              "  <thead>\n",
              "    <tr style=\"text-align: right;\">\n",
              "      <th></th>\n",
              "      <th>tweet_id</th>\n",
              "      <th>type</th>\n",
              "      <th>content_tuit</th>\n",
              "    </tr>\n",
              "  </thead>\n",
              "  <tbody>\n",
              "    <tr>\n",
              "      <th>0</th>\n",
              "      <td>1357198223706894339</td>\n",
              "      <td>ENFERMEDAD</td>\n",
              "      <td>No sé si es alergia, covid o gripe, ya solo es...</td>\n",
              "    </tr>\n",
              "    <tr>\n",
              "      <th>1</th>\n",
              "      <td>1494382407398662147</td>\n",
              "      <td>ENFERMEDAD</td>\n",
              "      <td>ADOLESCENTES CON DIABETES\\n\\nHola!\\nMe llamo E...</td>\n",
              "    </tr>\n",
              "    <tr>\n",
              "      <th>2</th>\n",
              "      <td>1478289344565755910</td>\n",
              "      <td>ENFERMEDAD</td>\n",
              "      <td>De niño y adulto me vacunaron contra el saramp...</td>\n",
              "    </tr>\n",
              "    <tr>\n",
              "      <th>3</th>\n",
              "      <td>1476287203424800781</td>\n",
              "      <td>ENFERMEDAD</td>\n",
              "      <td>Un ingreso por depresión debería entenderse co...</td>\n",
              "    </tr>\n",
              "    <tr>\n",
              "      <th>4</th>\n",
              "      <td>1269536913259671559</td>\n",
              "      <td>ENFERMEDAD</td>\n",
              "      <td>Santiago, desde Córdoba no me enteré que estuv...</td>\n",
              "    </tr>\n",
              "    <tr>\n",
              "      <th>...</th>\n",
              "      <td>...</td>\n",
              "      <td>...</td>\n",
              "      <td>...</td>\n",
              "    </tr>\n",
              "    <tr>\n",
              "      <th>95</th>\n",
              "      <td>1242946691428495365</td>\n",
              "      <td>NO_ENFERMEDAD</td>\n",
              "      <td>Margarita Salas, bioquímica pionera descubrió ...</td>\n",
              "    </tr>\n",
              "    <tr>\n",
              "      <th>96</th>\n",
              "      <td>1252570761312829440</td>\n",
              "      <td>NO_ENFERMEDAD</td>\n",
              "      <td>Mientras hace negocio vendiendo mascarillas, p...</td>\n",
              "    </tr>\n",
              "    <tr>\n",
              "      <th>97</th>\n",
              "      <td>1251429071705247744</td>\n",
              "      <td>NO_ENFERMEDAD</td>\n",
              "      <td>Libertad ya!!!  Vea el documental de ABC donde...</td>\n",
              "    </tr>\n",
              "    <tr>\n",
              "      <th>98</th>\n",
              "      <td>1288737608160419840</td>\n",
              "      <td>NO_ENFERMEDAD</td>\n",
              "      <td>Limitados los aforos en todos los lugares de E...</td>\n",
              "    </tr>\n",
              "    <tr>\n",
              "      <th>99</th>\n",
              "      <td>1258315237675216896</td>\n",
              "      <td>NO_ENFERMEDAD</td>\n",
              "      <td>Encuentran muerto a tiros a un investigador ch...</td>\n",
              "    </tr>\n",
              "  </tbody>\n",
              "</table>\n",
              "<p>100 rows × 3 columns</p>\n",
              "</div>\n",
              "      <button class=\"colab-df-convert\" onclick=\"convertToInteractive('df-195dc9fa-3e19-4df5-b8f1-cebb6f8b40db')\"\n",
              "              title=\"Convert this dataframe to an interactive table.\"\n",
              "              style=\"display:none;\">\n",
              "        \n",
              "  <svg xmlns=\"http://www.w3.org/2000/svg\" height=\"24px\"viewBox=\"0 0 24 24\"\n",
              "       width=\"24px\">\n",
              "    <path d=\"M0 0h24v24H0V0z\" fill=\"none\"/>\n",
              "    <path d=\"M18.56 5.44l.94 2.06.94-2.06 2.06-.94-2.06-.94-.94-2.06-.94 2.06-2.06.94zm-11 1L8.5 8.5l.94-2.06 2.06-.94-2.06-.94L8.5 2.5l-.94 2.06-2.06.94zm10 10l.94 2.06.94-2.06 2.06-.94-2.06-.94-.94-2.06-.94 2.06-2.06.94z\"/><path d=\"M17.41 7.96l-1.37-1.37c-.4-.4-.92-.59-1.43-.59-.52 0-1.04.2-1.43.59L10.3 9.45l-7.72 7.72c-.78.78-.78 2.05 0 2.83L4 21.41c.39.39.9.59 1.41.59.51 0 1.02-.2 1.41-.59l7.78-7.78 2.81-2.81c.8-.78.8-2.07 0-2.86zM5.41 20L4 18.59l7.72-7.72 1.47 1.35L5.41 20z\"/>\n",
              "  </svg>\n",
              "      </button>\n",
              "      \n",
              "  <style>\n",
              "    .colab-df-container {\n",
              "      display:flex;\n",
              "      flex-wrap:wrap;\n",
              "      gap: 12px;\n",
              "    }\n",
              "\n",
              "    .colab-df-convert {\n",
              "      background-color: #E8F0FE;\n",
              "      border: none;\n",
              "      border-radius: 50%;\n",
              "      cursor: pointer;\n",
              "      display: none;\n",
              "      fill: #1967D2;\n",
              "      height: 32px;\n",
              "      padding: 0 0 0 0;\n",
              "      width: 32px;\n",
              "    }\n",
              "\n",
              "    .colab-df-convert:hover {\n",
              "      background-color: #E2EBFA;\n",
              "      box-shadow: 0px 1px 2px rgba(60, 64, 67, 0.3), 0px 1px 3px 1px rgba(60, 64, 67, 0.15);\n",
              "      fill: #174EA6;\n",
              "    }\n",
              "\n",
              "    [theme=dark] .colab-df-convert {\n",
              "      background-color: #3B4455;\n",
              "      fill: #D2E3FC;\n",
              "    }\n",
              "\n",
              "    [theme=dark] .colab-df-convert:hover {\n",
              "      background-color: #434B5C;\n",
              "      box-shadow: 0px 1px 3px 1px rgba(0, 0, 0, 0.15);\n",
              "      filter: drop-shadow(0px 1px 2px rgba(0, 0, 0, 0.3));\n",
              "      fill: #FFFFFF;\n",
              "    }\n",
              "  </style>\n",
              "\n",
              "      <script>\n",
              "        const buttonEl =\n",
              "          document.querySelector('#df-195dc9fa-3e19-4df5-b8f1-cebb6f8b40db button.colab-df-convert');\n",
              "        buttonEl.style.display =\n",
              "          google.colab.kernel.accessAllowed ? 'block' : 'none';\n",
              "\n",
              "        async function convertToInteractive(key) {\n",
              "          const element = document.querySelector('#df-195dc9fa-3e19-4df5-b8f1-cebb6f8b40db');\n",
              "          const dataTable =\n",
              "            await google.colab.kernel.invokeFunction('convertToInteractive',\n",
              "                                                     [key], {});\n",
              "          if (!dataTable) return;\n",
              "\n",
              "          const docLinkHtml = 'Like what you see? Visit the ' +\n",
              "            '<a target=\"_blank\" href=https://colab.research.google.com/notebooks/data_table.ipynb>data table notebook</a>'\n",
              "            + ' to learn more about interactive tables.';\n",
              "          element.innerHTML = '';\n",
              "          dataTable['output_type'] = 'display_data';\n",
              "          await google.colab.output.renderOutput(dataTable, element);\n",
              "          const docLink = document.createElement('div');\n",
              "          docLink.innerHTML = docLinkHtml;\n",
              "          element.appendChild(docLink);\n",
              "        }\n",
              "      </script>\n",
              "    </div>\n",
              "  </div>\n",
              "  "
            ]
          },
          "metadata": {},
          "execution_count": 32
        }
      ]
    },
    {
      "cell_type": "code",
      "source": [
        "import re\n",
        "from nltk.corpus import stopwords\n",
        "from nltk.tokenize import word_tokenize"
      ],
      "metadata": {
        "id": "RT7ft80gam3e"
      },
      "execution_count": 33,
      "outputs": []
    },
    {
      "cell_type": "code",
      "source": [
        "symbols = [\n",
        "    '¿','?','~','`','!','¡','@','$','%','^',\n",
        "    '*','(',')','_','-','+','=','{','}','[',\n",
        "    ']','\\\\',';','<','>','/', '.', ',','&','\\n'\n",
        "    ,'\\r','\\t', '|', '“', '\"', '–', '”', '©', '-', '—',\n",
        "    '…', ';', ':', '‘','’', '...', '#', '«', '»', '``',\n",
        "    \"''\", '..', '...', '--'\n",
        "]"
      ],
      "metadata": {
        "id": "MHHde3e4a1-V"
      },
      "execution_count": 34,
      "outputs": []
    },
    {
      "cell_type": "code",
      "source": [
        "def remove_emoji(string):\n",
        "    emoji_pattern = re.compile(\"[\"\n",
        "                               u\"\\U0001F600-\\U0001F64F\"  # emoticons\n",
        "                               u\"\\U0001F300-\\U0001F5FF\"  # symbols & pictographs\n",
        "                               u\"\\U0001F680-\\U0001F6FF\"  # transport & map symbols\n",
        "                               u\"\\U0001F1E0-\\U0001F1FF\"  # flags (iOS)\n",
        "                               u\"\\U00002500-\\U00002BEF\"  # chinese char\n",
        "                               u\"\\U00002702-\\U000027B0\"\n",
        "                               u\"\\U00002702-\\U000027B0\"\n",
        "                               u\"\\U000024C2-\\U0001F251\"\n",
        "                               u\"\\U0001f926-\\U0001f937\"\n",
        "                               u\"\\U00010000-\\U0010ffff\"\n",
        "                               u\"\\u2640-\\u2642\"\n",
        "                               u\"\\u2600-\\u2B55\"\n",
        "                               u\"\\u200d\"\n",
        "                               u\"\\u23cf\"\n",
        "                               u\"\\u23e9\"\n",
        "                               u\"\\u231a\"\n",
        "                               u\"\\ufe0f\"  # dingbats\n",
        "                               u\"\\u3030\"\n",
        "                               \"]+\", flags=re.UNICODE)\n",
        "    return emoji_pattern.sub(r'', string)"
      ],
      "metadata": {
        "id": "6_k_Bi-5afzR"
      },
      "execution_count": 35,
      "outputs": []
    },
    {
      "cell_type": "code",
      "source": [
        "def limpia_tuit_sp(text):\n",
        "    str_limp = \"\"\n",
        "    stp_wors_mas_sym = stopwords.words('spanish') + symbols\n",
        "\n",
        "    # Eliminamos las urls de los tuits\n",
        "    text = re.sub('http[s]*://[a-zA-Z0-9/.-]*|www.[a-zA-Z0-9/.-]*', '', text)\n",
        "\n",
        "    # Eliminamos numeros\n",
        "    text = re.sub('[0-9]*','', text)\n",
        "    # print(text)\n",
        "\n",
        "    # Eliminamos emoticonos\n",
        "    text = remove_emoji(text)\n",
        "\n",
        "    # Eliminamos otros caracteres\n",
        "    text = re.sub('[¿,_,?,¡,!,-]*','', text)\n",
        "\n",
        "    # Tokenizamos los tuits\n",
        "    text_tok = word_tokenize(text)\n",
        "    for t_tok in text_tok:\n",
        "        if not t_tok in stp_wors_mas_sym:\n",
        "            str_limp = str_limp + \" \" + t_tok\n",
        "    str_limp =  str_limp.lower()\n",
        "    return str_limp"
      ],
      "metadata": {
        "id": "W2r4wPBla8-1"
      },
      "execution_count": 36,
      "outputs": []
    },
    {
      "cell_type": "code",
      "source": [
        "import nltk\n",
        "nltk.download('stopwords')\n",
        "nltk.download('punkt')"
      ],
      "metadata": {
        "id": "rwucD8Ygc5ly",
        "colab": {
          "base_uri": "https://localhost:8080/"
        },
        "outputId": "9823cbe3-4063-43b0-8a14-16f41a7c4e80"
      },
      "execution_count": 37,
      "outputs": [
        {
          "output_type": "stream",
          "name": "stderr",
          "text": [
            "[nltk_data] Downloading package stopwords to /root/nltk_data...\n",
            "[nltk_data]   Unzipping corpora/stopwords.zip.\n",
            "[nltk_data] Downloading package punkt to /root/nltk_data...\n",
            "[nltk_data]   Unzipping tokenizers/punkt.zip.\n"
          ]
        },
        {
          "output_type": "execute_result",
          "data": {
            "text/plain": [
              "True"
            ]
          },
          "metadata": {},
          "execution_count": 37
        }
      ]
    },
    {
      "cell_type": "markdown",
      "source": [
        "### A partir del dataset convertimos los tuits y sus type (ENFERMEDAD, NO_ENFERMEDAD) en 2 arrays"
      ],
      "metadata": {
        "id": "Bnfw338oKFEW"
      }
    },
    {
      "cell_type": "code",
      "source": [
        "x, y = np.asarray(df_tot['content_tuit']), np.asarray(df_tot['type'])\n"
      ],
      "metadata": {
        "id": "L-Fr1i8LcacY"
      },
      "execution_count": 38,
      "outputs": []
    },
    {
      "cell_type": "code",
      "source": [
        "from sklearn.model_selection import train_test_split"
      ],
      "metadata": {
        "id": "wwqzUYFvnL40"
      },
      "execution_count": 40,
      "outputs": []
    },
    {
      "cell_type": "code",
      "source": [
        "# Troceamos el dataset en crudo con vines didácticos\n",
        "x_train_raw, x_test_raw, y_train_raw, y_test_raw = train_test_split(x, y, train_size=70, random_state=42)"
      ],
      "metadata": {
        "id": "upsCqDDivnf5"
      },
      "execution_count": 41,
      "outputs": []
    },
    {
      "cell_type": "markdown",
      "source": [
        "Limpiamos los tuit"
      ],
      "metadata": {
        "id": "Vd0xaDOnNX5C"
      }
    },
    {
      "cell_type": "code",
      "source": [
        "tuits_limpios = [limpia_tuit_sp(t) for t in x]"
      ],
      "metadata": {
        "id": "Ou_KEqEhGO6f"
      },
      "execution_count": 42,
      "outputs": []
    },
    {
      "cell_type": "markdown",
      "source": [
        "### Conversión de los datos textuales a númericos, usos:\n",
        "*   CountVectorizer\n",
        "*   Tfidf"
      ],
      "metadata": {
        "id": "s6CBXOU_JbtS"
      }
    },
    {
      "cell_type": "code",
      "source": [
        "from sklearn.feature_extraction.text import CountVectorizer, TfidfVectorizer"
      ],
      "metadata": {
        "id": "uvJL1feqyWD5"
      },
      "execution_count": 43,
      "outputs": []
    },
    {
      "cell_type": "code",
      "source": [
        "count_vectorizer = CountVectorizer()\n",
        "X_numer_count = count_vectorizer.fit_transform(tuits_limpios).toarray()"
      ],
      "metadata": {
        "id": "5z6tiyq9yRbt"
      },
      "execution_count": 44,
      "outputs": []
    },
    {
      "cell_type": "code",
      "source": [
        "tfid_vectorizer = TfidfVectorizer()\n",
        "X_numer_tfid = tfid_vectorizer.fit_transform(tuits_limpios).toarray()"
      ],
      "metadata": {
        "id": "UREOBGJKVQrx"
      },
      "execution_count": 45,
      "outputs": []
    },
    {
      "cell_type": "markdown",
      "source": [
        "### Importamos las librerias para implementar el modelo mediante Support Vector Machine y la división del dataset es subset entrenamiento (train) y testeo (test)"
      ],
      "metadata": {
        "id": "WdEUqsv_N3Jx"
      }
    },
    {
      "cell_type": "code",
      "source": [
        "from sklearn import svm\n",
        "clf = svm.SVC(kernel='linear')"
      ],
      "metadata": {
        "id": "wkO29dasyyW7"
      },
      "execution_count": 46,
      "outputs": []
    },
    {
      "cell_type": "markdown",
      "source": [
        "SVM_CountVectorized"
      ],
      "metadata": {
        "id": "btaDCQhIWwyb"
      }
    },
    {
      "cell_type": "code",
      "source": [
        "x_train, x_test, y_train, y_test = train_test_split(X_numer_count, y, train_size=70, random_state=42)\n",
        "clf.fit(x_train, y_train)"
      ],
      "metadata": {
        "id": "4m8QUflzymgv",
        "colab": {
          "base_uri": "https://localhost:8080/",
          "height": 75
        },
        "outputId": "3be941c7-aaae-484c-8aab-e6596c3407e7"
      },
      "execution_count": 47,
      "outputs": [
        {
          "output_type": "execute_result",
          "data": {
            "text/plain": [
              "SVC(kernel='linear')"
            ],
            "text/html": [
              "<style>#sk-container-id-1 {color: black;background-color: white;}#sk-container-id-1 pre{padding: 0;}#sk-container-id-1 div.sk-toggleable {background-color: white;}#sk-container-id-1 label.sk-toggleable__label {cursor: pointer;display: block;width: 100%;margin-bottom: 0;padding: 0.3em;box-sizing: border-box;text-align: center;}#sk-container-id-1 label.sk-toggleable__label-arrow:before {content: \"▸\";float: left;margin-right: 0.25em;color: #696969;}#sk-container-id-1 label.sk-toggleable__label-arrow:hover:before {color: black;}#sk-container-id-1 div.sk-estimator:hover label.sk-toggleable__label-arrow:before {color: black;}#sk-container-id-1 div.sk-toggleable__content {max-height: 0;max-width: 0;overflow: hidden;text-align: left;background-color: #f0f8ff;}#sk-container-id-1 div.sk-toggleable__content pre {margin: 0.2em;color: black;border-radius: 0.25em;background-color: #f0f8ff;}#sk-container-id-1 input.sk-toggleable__control:checked~div.sk-toggleable__content {max-height: 200px;max-width: 100%;overflow: auto;}#sk-container-id-1 input.sk-toggleable__control:checked~label.sk-toggleable__label-arrow:before {content: \"▾\";}#sk-container-id-1 div.sk-estimator input.sk-toggleable__control:checked~label.sk-toggleable__label {background-color: #d4ebff;}#sk-container-id-1 div.sk-label input.sk-toggleable__control:checked~label.sk-toggleable__label {background-color: #d4ebff;}#sk-container-id-1 input.sk-hidden--visually {border: 0;clip: rect(1px 1px 1px 1px);clip: rect(1px, 1px, 1px, 1px);height: 1px;margin: -1px;overflow: hidden;padding: 0;position: absolute;width: 1px;}#sk-container-id-1 div.sk-estimator {font-family: monospace;background-color: #f0f8ff;border: 1px dotted black;border-radius: 0.25em;box-sizing: border-box;margin-bottom: 0.5em;}#sk-container-id-1 div.sk-estimator:hover {background-color: #d4ebff;}#sk-container-id-1 div.sk-parallel-item::after {content: \"\";width: 100%;border-bottom: 1px solid gray;flex-grow: 1;}#sk-container-id-1 div.sk-label:hover label.sk-toggleable__label {background-color: #d4ebff;}#sk-container-id-1 div.sk-serial::before {content: \"\";position: absolute;border-left: 1px solid gray;box-sizing: border-box;top: 0;bottom: 0;left: 50%;z-index: 0;}#sk-container-id-1 div.sk-serial {display: flex;flex-direction: column;align-items: center;background-color: white;padding-right: 0.2em;padding-left: 0.2em;position: relative;}#sk-container-id-1 div.sk-item {position: relative;z-index: 1;}#sk-container-id-1 div.sk-parallel {display: flex;align-items: stretch;justify-content: center;background-color: white;position: relative;}#sk-container-id-1 div.sk-item::before, #sk-container-id-1 div.sk-parallel-item::before {content: \"\";position: absolute;border-left: 1px solid gray;box-sizing: border-box;top: 0;bottom: 0;left: 50%;z-index: -1;}#sk-container-id-1 div.sk-parallel-item {display: flex;flex-direction: column;z-index: 1;position: relative;background-color: white;}#sk-container-id-1 div.sk-parallel-item:first-child::after {align-self: flex-end;width: 50%;}#sk-container-id-1 div.sk-parallel-item:last-child::after {align-self: flex-start;width: 50%;}#sk-container-id-1 div.sk-parallel-item:only-child::after {width: 0;}#sk-container-id-1 div.sk-dashed-wrapped {border: 1px dashed gray;margin: 0 0.4em 0.5em 0.4em;box-sizing: border-box;padding-bottom: 0.4em;background-color: white;}#sk-container-id-1 div.sk-label label {font-family: monospace;font-weight: bold;display: inline-block;line-height: 1.2em;}#sk-container-id-1 div.sk-label-container {text-align: center;}#sk-container-id-1 div.sk-container {/* jupyter's `normalize.less` sets `[hidden] { display: none; }` but bootstrap.min.css set `[hidden] { display: none !important; }` so we also need the `!important` here to be able to override the default hidden behavior on the sphinx rendered scikit-learn.org. See: https://github.com/scikit-learn/scikit-learn/issues/21755 */display: inline-block !important;position: relative;}#sk-container-id-1 div.sk-text-repr-fallback {display: none;}</style><div id=\"sk-container-id-1\" class=\"sk-top-container\"><div class=\"sk-text-repr-fallback\"><pre>SVC(kernel=&#x27;linear&#x27;)</pre><b>In a Jupyter environment, please rerun this cell to show the HTML representation or trust the notebook. <br />On GitHub, the HTML representation is unable to render, please try loading this page with nbviewer.org.</b></div><div class=\"sk-container\" hidden><div class=\"sk-item\"><div class=\"sk-estimator sk-toggleable\"><input class=\"sk-toggleable__control sk-hidden--visually\" id=\"sk-estimator-id-1\" type=\"checkbox\" checked><label for=\"sk-estimator-id-1\" class=\"sk-toggleable__label sk-toggleable__label-arrow\">SVC</label><div class=\"sk-toggleable__content\"><pre>SVC(kernel=&#x27;linear&#x27;)</pre></div></div></div></div></div>"
            ]
          },
          "metadata": {},
          "execution_count": 47
        }
      ]
    },
    {
      "cell_type": "markdown",
      "source": [
        "Se va a probar la prección del modelo definido utilizado algunos tuits del subset test"
      ],
      "metadata": {
        "id": "GuDicGRmuJbT"
      }
    },
    {
      "cell_type": "code",
      "source": [
        "tuits_pruebas_limpios = [limpia_tuit_sp(t) for t in x_test_raw]"
      ],
      "metadata": {
        "id": "AVJjJ2BNw9Sj"
      },
      "execution_count": 48,
      "outputs": []
    },
    {
      "cell_type": "code",
      "source": [
        "for x_tuit, y_tuit in zip(tuits_pruebas_limpios, y_test_raw):\n",
        "  print(x_tuit, y_tuit)\n"
      ],
      "metadata": {
        "id": "bPl9Q6mKyJ67"
      },
      "execution_count": null,
      "outputs": []
    },
    {
      "cell_type": "code",
      "source": [
        "tuits_pruebas_count = count_vectorizer.transform(tuits_pruebas_limpios).toarray()"
      ],
      "metadata": {
        "id": "ctCwucW-0jvr"
      },
      "execution_count": 50,
      "outputs": []
    },
    {
      "cell_type": "code",
      "source": [
        "predicted = clf.predict(tuits_pruebas_count)\n",
        "for doc, categoria in zip(tuits_pruebas_limpios, predicted):\n",
        "    print('%r => %s' % (doc, categoria))\n",
        "print()"
      ],
      "metadata": {
        "id": "Npm0kirZ00fS"
      },
      "execution_count": null,
      "outputs": []
    },
    {
      "cell_type": "markdown",
      "source": [
        "# MÉTRICAS"
      ],
      "metadata": {
        "id": "-5V91wl5QZsE"
      }
    },
    {
      "cell_type": "markdown",
      "source": [
        "### Score (acurracy)"
      ],
      "metadata": {
        "id": "yHks0713Qh5e"
      }
    },
    {
      "cell_type": "code",
      "source": [
        "clf.score(x_test, y_test)"
      ],
      "metadata": {
        "colab": {
          "base_uri": "https://localhost:8080/"
        },
        "id": "EcL2ur7Irl8S",
        "outputId": "e7a917e7-5149-4487-aa2d-4b273528b50f"
      },
      "execution_count": 52,
      "outputs": [
        {
          "output_type": "execute_result",
          "data": {
            "text/plain": [
              "0.7666666666666667"
            ]
          },
          "metadata": {},
          "execution_count": 52
        }
      ]
    },
    {
      "cell_type": "markdown",
      "source": [
        "### F1 Score"
      ],
      "metadata": {
        "id": "tMGExDQxRktC"
      }
    },
    {
      "cell_type": "code",
      "source": [
        "from sklearn.metrics import f1_score\n",
        "\n",
        "f1_score(y_test, clf.predict(x_test),\n",
        "         labels=['ENFERMEDAD','NO_ENFERMEDAD'],\n",
        "         average=None)"
      ],
      "metadata": {
        "id": "UHK2SVLlSJRx",
        "colab": {
          "base_uri": "https://localhost:8080/"
        },
        "outputId": "07d95b9f-5c46-4eae-8773-338b92c98662"
      },
      "execution_count": 53,
      "outputs": [
        {
          "output_type": "execute_result",
          "data": {
            "text/plain": [
              "array([0.74074074, 0.78787879])"
            ]
          },
          "metadata": {},
          "execution_count": 53
        }
      ]
    },
    {
      "cell_type": "markdown",
      "source": [
        "### Reporte de Clasificación"
      ],
      "metadata": {
        "id": "6Zf6MORpV02G"
      }
    },
    {
      "cell_type": "code",
      "source": [
        "from sklearn.metrics import classification_report\n",
        "\n",
        "print(classification_report(y_test, clf.predict(x_test),\n",
        "         labels=['ENFERMEDAD','NO_ENFERMEDAD']))"
      ],
      "metadata": {
        "id": "gyUY6RQrVyta",
        "colab": {
          "base_uri": "https://localhost:8080/"
        },
        "outputId": "8295dbb3-d993-4e40-f723-acec8cd97f9b"
      },
      "execution_count": 54,
      "outputs": [
        {
          "output_type": "stream",
          "name": "stdout",
          "text": [
            "               precision    recall  f1-score   support\n",
            "\n",
            "   ENFERMEDAD       1.00      0.59      0.74        17\n",
            "NO_ENFERMEDAD       0.65      1.00      0.79        13\n",
            "\n",
            "     accuracy                           0.77        30\n",
            "    macro avg       0.82      0.79      0.76        30\n",
            " weighted avg       0.85      0.77      0.76        30\n",
            "\n"
          ]
        }
      ]
    },
    {
      "cell_type": "code",
      "source": [
        "from sklearn.metrics import confusion_matrix\n",
        "\n",
        "confusion_matrix(y_test, clf.predict(x_test),\n",
        "         labels=['ENFERMEDAD','NO_ENFERMEDAD'])\n"
      ],
      "metadata": {
        "id": "dT3dOmEDWdYr",
        "colab": {
          "base_uri": "https://localhost:8080/"
        },
        "outputId": "b6e198b9-182b-4617-8e72-b7b45b5ce21f"
      },
      "execution_count": 55,
      "outputs": [
        {
          "output_type": "execute_result",
          "data": {
            "text/plain": [
              "array([[10,  7],\n",
              "       [ 0, 13]])"
            ]
          },
          "metadata": {},
          "execution_count": 55
        }
      ]
    },
    {
      "cell_type": "markdown",
      "source": [
        "## Optimización (GridSearchCV)"
      ],
      "metadata": {
        "id": "qjqxt6MJXpcW"
      }
    },
    {
      "cell_type": "code",
      "source": [
        "from sklearn.model_selection import GridSearchCV\n",
        "\n",
        "parametros = {'C':[1,4,8,16,32], 'kernel':['linear','rbf']}\n",
        "clf = svm.SVC()\n",
        "clf_grid = GridSearchCV(clf, parametros, cv=5)\n",
        "clf_grid.fit(x_train, y_train)\n"
      ],
      "metadata": {
        "id": "UixrXzBXX6WD"
      },
      "execution_count": null,
      "outputs": []
    },
    {
      "cell_type": "code",
      "source": [
        "clf_grid.best_score_"
      ],
      "metadata": {
        "colab": {
          "base_uri": "https://localhost:8080/"
        },
        "id": "OpmGvgK2n-7N",
        "outputId": "772a7ee0-a0aa-4acb-c0ae-e1b010886b41"
      },
      "execution_count": 57,
      "outputs": [
        {
          "output_type": "execute_result",
          "data": {
            "text/plain": [
              "0.8"
            ]
          },
          "metadata": {},
          "execution_count": 57
        }
      ]
    },
    {
      "cell_type": "code",
      "source": [
        "clf_grid.best_params_"
      ],
      "metadata": {
        "colab": {
          "base_uri": "https://localhost:8080/"
        },
        "id": "205rjcW3oJa4",
        "outputId": "9d43dbfc-dc1c-41dc-a782-7f98a47eb780"
      },
      "execution_count": 58,
      "outputs": [
        {
          "output_type": "execute_result",
          "data": {
            "text/plain": [
              "{'C': 1, 'kernel': 'rbf'}"
            ]
          },
          "metadata": {},
          "execution_count": 58
        }
      ]
    },
    {
      "cell_type": "markdown",
      "source": [
        "SVM_TfidfVectorizer"
      ],
      "metadata": {
        "id": "cwm_0FzIXdy7"
      }
    },
    {
      "cell_type": "code",
      "source": [
        "x_train, x_test, y_train, y_test = train_test_split(X_numer_tfid, y, train_size=70, random_state=42)\n",
        "clf.fit(x_train, y_train)\n",
        "clf.score(x_test, y_test)"
      ],
      "metadata": {
        "colab": {
          "base_uri": "https://localhost:8080/"
        },
        "id": "93abdU24XRgl",
        "outputId": "18aac564-fb1c-4297-8fa8-6b76b4daa809"
      },
      "execution_count": null,
      "outputs": [
        {
          "output_type": "execute_result",
          "data": {
            "text/plain": [
              "0.5333333333333333"
            ]
          },
          "metadata": {},
          "execution_count": 101
        }
      ]
    },
    {
      "cell_type": "code",
      "source": [
        "clf.set_params(kernel='rbf').fit(x_train, y_train)"
      ],
      "metadata": {
        "id": "dI_R2Wut0lJw"
      },
      "execution_count": null,
      "outputs": []
    },
    {
      "cell_type": "code",
      "source": [
        "clf.score(x_test, y_test)"
      ],
      "metadata": {
        "id": "l-swizTd1CO0"
      },
      "execution_count": null,
      "outputs": []
    }
  ]
}