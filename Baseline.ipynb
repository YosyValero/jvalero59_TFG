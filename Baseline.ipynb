{
  "nbformat": 4,
  "nbformat_minor": 0,
  "metadata": {
    "colab": {
      "provenance": [],
      "authorship_tag": "ABX9TyP1WCa8RVhqwmcJenSFhciI",
      "include_colab_link": true
    },
    "kernelspec": {
      "name": "python3",
      "display_name": "Python 3"
    },
    "language_info": {
      "name": "python"
    }
  },
  "cells": [
    {
      "cell_type": "markdown",
      "metadata": {
        "id": "view-in-github",
        "colab_type": "text"
      },
      "source": [
        "<a href=\"https://colab.research.google.com/github/YosyValero/jvalero59_TFG/blob/main/Baseline.ipynb\" target=\"_parent\"><img src=\"https://colab.research.google.com/assets/colab-badge.svg\" alt=\"Open In Colab\"/></a>"
      ]
    },
    {
      "cell_type": "markdown",
      "source": [
        "Baseline TFG"
      ],
      "metadata": {
        "id": "WY1THrOyGrbc"
      }
    },
    {
      "cell_type": "code",
      "source": [
        "from google.colab import drive\n",
        "drive.mount('/content/drive')"
      ],
      "metadata": {
        "colab": {
          "base_uri": "https://localhost:8080/"
        },
        "id": "xT2E9pvtQh8Y",
        "outputId": "12d7c3f8-91cb-4ac4-a344-3601495d8fbc"
      },
      "execution_count": null,
      "outputs": [
        {
          "output_type": "stream",
          "name": "stdout",
          "text": [
            "Mounted at /content/drive\n"
          ]
        }
      ]
    },
    {
      "cell_type": "code",
      "source": [
        "import numpy as np\n",
        "import pandas as pd"
      ],
      "metadata": {
        "id": "_3mOeO3iGylD"
      },
      "execution_count": null,
      "outputs": []
    },
    {
      "cell_type": "code",
      "source": [
        "path_tsv = '/content/drive/MyDrive/Dataset/tsv/'"
      ],
      "metadata": {
        "id": "hH034l0zPz7_"
      },
      "execution_count": null,
      "outputs": []
    },
    {
      "cell_type": "code",
      "source": [
        "df_dissea =  pd.read_csv(path_tsv + 'dissea.tsv', sep='\\t', header=0).loc[:, ('tweets_id', 'type')].rename(columns={'tweets_id': 'tweet_id'})"
      ],
      "metadata": {
        "id": "uleeDwThUX26"
      },
      "execution_count": null,
      "outputs": []
    },
    {
      "cell_type": "code",
      "source": [
        "df_prof =  pd.read_csv(path_tsv + 'prof.tsv', sep='\\t', header=0).loc[:, ('tweet_id', 'type')]"
      ],
      "metadata": {
        "id": "8YdwbjLAWcZ0"
      },
      "execution_count": null,
      "outputs": []
    },
    {
      "cell_type": "code",
      "source": [
        "df_prof.drop(df_prof[df_prof['type']=='-'].index, inplace=True)"
      ],
      "metadata": {
        "id": "Wpoj9mOY1NxX"
      },
      "execution_count": null,
      "outputs": []
    },
    {
      "cell_type": "code",
      "source": [
        "df_prof = df_prof.replace(['PROFESION', 'SITUACION_LABORAL', 'ACTIVIDAD', 'FIGURATIVA'], ['NO_ENFERMEDAD', 'NO_ENFERMEDAD', 'NO_ENFERMEDAD', 'NO_ENFERMEDAD'])"
      ],
      "metadata": {
        "id": "DqlmZ5hvd-NZ"
      },
      "execution_count": null,
      "outputs": []
    },
    {
      "cell_type": "code",
      "source": [
        "df_prof_norep = df_prof.drop_duplicates(ignore_index=True)"
      ],
      "metadata": {
        "id": "IJgf8uPRW4qO"
      },
      "execution_count": null,
      "outputs": []
    },
    {
      "cell_type": "code",
      "source": [
        "df_disse_norep = df_dissea.drop_duplicates(ignore_index=True)"
      ],
      "metadata": {
        "id": "Ets8SUnuXFGa"
      },
      "execution_count": null,
      "outputs": []
    },
    {
      "cell_type": "code",
      "source": [
        "muestras_min = min([len(df_disse_norep), len(df_prof_norep)])"
      ],
      "metadata": {
        "id": "q4YS-Ail8rhO"
      },
      "execution_count": null,
      "outputs": []
    },
    {
      "cell_type": "code",
      "source": [
        "muestras = 260"
      ],
      "metadata": {
        "id": "U0oTuuHM9PL6"
      },
      "execution_count": 85,
      "outputs": []
    },
    {
      "cell_type": "code",
      "source": [
        "if muestras_min < muestras:\n",
        "  muestras = muestras_min"
      ],
      "metadata": {
        "id": "HYM9QyOs9Tpe"
      },
      "execution_count": 86,
      "outputs": []
    },
    {
      "cell_type": "code",
      "source": [
        "df_xamples_diss = df_disse_norep.head(muestras)"
      ],
      "metadata": {
        "id": "yMARCWkE-rMp"
      },
      "execution_count": 87,
      "outputs": []
    },
    {
      "cell_type": "code",
      "source": [
        "df_xamples_nodiss = df_prof_norep.head(muestras)"
      ],
      "metadata": {
        "id": "rvS4Gswk-ro5"
      },
      "execution_count": 88,
      "outputs": []
    },
    {
      "cell_type": "code",
      "source": [
        "df_xamples_nodiss = df_xamples_nodiss.rename(index=lambda x: x + muestras)"
      ],
      "metadata": {
        "id": "6GOQ8tqf_gPC"
      },
      "execution_count": 89,
      "outputs": []
    },
    {
      "cell_type": "code",
      "source": [
        "df_tot = pd.concat([df_xamples_diss, df_xamples_nodiss])\n"
      ],
      "metadata": {
        "id": "4VQzl_Q5Wfbc"
      },
      "execution_count": 90,
      "outputs": []
    },
    {
      "cell_type": "code",
      "source": [
        "df_tot"
      ],
      "metadata": {
        "id": "0wprg7-AL6s5"
      },
      "execution_count": null,
      "outputs": []
    },
    {
      "cell_type": "code",
      "source": [
        "df_tot.insert(2, 'content_tuit', value='')"
      ],
      "metadata": {
        "id": "SA29vXs15MB7"
      },
      "execution_count": 92,
      "outputs": []
    },
    {
      "cell_type": "code",
      "source": [
        "def get_tuit(type_tuit, name_tuit):\n",
        "  sub_path = path_tsv + 'train-valid-txt-files/'\n",
        "  if type_tuit == 'ENFERMEDAD':\n",
        "    path_tuit = sub_path + 'dissea'\n",
        "  else:\n",
        "    path_tuit = sub_path + 'prof'\n",
        "\n",
        "  path_tuit = path_tuit + '/training/' + name_tuit + '.txt'\n",
        "  tuit = open(path_tuit, mode='r', encoding='utf-8')\n",
        "  content_tuit = tuit.read()\n",
        "  tuit.close()\n",
        "\n",
        "  return content_tuit"
      ],
      "metadata": {
        "id": "Wu5FZ0wWGj7h"
      },
      "execution_count": 93,
      "outputs": []
    },
    {
      "cell_type": "code",
      "source": [
        "for i in range(len(df_tot)):\n",
        "    name_tuit = df_tot.loc[i, 'tweet_id']\n",
        "    type_tuit = df_tot.loc[i, 'type']\n",
        "    df_tot.at[i, 'content_tuit'] = get_tuit(type_tuit, str(name_tuit))"
      ],
      "metadata": {
        "id": "P14yy2l2VZCc"
      },
      "execution_count": 94,
      "outputs": []
    },
    {
      "cell_type": "code",
      "source": [
        "import re\n",
        "from nltk.corpus import stopwords\n",
        "from nltk.tokenize import word_tokenize"
      ],
      "metadata": {
        "id": "RT7ft80gam3e"
      },
      "execution_count": 95,
      "outputs": []
    },
    {
      "cell_type": "code",
      "source": [
        "symbols = [\n",
        "    '¿','?','~','`','!','¡','@','$','%','^',\n",
        "    '*','(',')','_','-','+','=','{','}','[',\n",
        "    ']','\\\\',';','<','>','/', '.', ',','&','\\n'\n",
        "    ,'\\r','\\t', '|', '“', '\"', '–', '”', '©', '-', '—',\n",
        "    '…', ';', ':', '‘','’', '...', '#', '«', '»', '``',\n",
        "    \"''\", '..', '...', '--'\n",
        "]"
      ],
      "metadata": {
        "id": "MHHde3e4a1-V"
      },
      "execution_count": 96,
      "outputs": []
    },
    {
      "cell_type": "code",
      "source": [
        "def remove_emoji(string):\n",
        "    emoji_pattern = re.compile(\"[\"\n",
        "                               u\"\\U0001F600-\\U0001F64F\"  # emoticons\n",
        "                               u\"\\U0001F300-\\U0001F5FF\"  # symbols & pictographs\n",
        "                               u\"\\U0001F680-\\U0001F6FF\"  # transport & map symbols\n",
        "                               u\"\\U0001F1E0-\\U0001F1FF\"  # flags (iOS)\n",
        "                               u\"\\U00002500-\\U00002BEF\"  # chinese char\n",
        "                               u\"\\U00002702-\\U000027B0\"\n",
        "                               u\"\\U00002702-\\U000027B0\"\n",
        "                               u\"\\U000024C2-\\U0001F251\"\n",
        "                               u\"\\U0001f926-\\U0001f937\"\n",
        "                               u\"\\U00010000-\\U0010ffff\"\n",
        "                               u\"\\u2640-\\u2642\"\n",
        "                               u\"\\u2600-\\u2B55\"\n",
        "                               u\"\\u200d\"\n",
        "                               u\"\\u23cf\"\n",
        "                               u\"\\u23e9\"\n",
        "                               u\"\\u231a\"\n",
        "                               u\"\\ufe0f\"  # dingbats\n",
        "                               u\"\\u3030\"\n",
        "                               \"]+\", flags=re.UNICODE)\n",
        "    return emoji_pattern.sub(r'', string)"
      ],
      "metadata": {
        "id": "6_k_Bi-5afzR"
      },
      "execution_count": 97,
      "outputs": []
    },
    {
      "cell_type": "code",
      "source": [
        "def limpia_tuit_sp(text):\n",
        "    str_limp = \"\"\n",
        "    stp_wors_mas_sym = stopwords.words('spanish') + symbols\n",
        "\n",
        "    # Eliminamos las urls de los tuits\n",
        "    text = re.sub('http[s]*://[a-zA-Z0-9/.-]*|www.[a-zA-Z0-9/.-]*', '', text)\n",
        "\n",
        "    # Eliminamos numeros\n",
        "    text = re.sub('[0-9]*','', text)\n",
        "    # print(text)\n",
        "\n",
        "    # Eliminamos emoticonos\n",
        "    text = remove_emoji(text)\n",
        "\n",
        "    # Eliminamos otros caracteres\n",
        "    text = re.sub('[¿,_,?,¡,!,-]*','', text)\n",
        "\n",
        "    # Tokenizamos los tuits\n",
        "    text_tok = word_tokenize(text)\n",
        "    for t_tok in text_tok:\n",
        "        if not t_tok in stp_wors_mas_sym:\n",
        "            str_limp = str_limp + \" \" + t_tok\n",
        "    str_limp =  str_limp.lower()\n",
        "    return str_limp"
      ],
      "metadata": {
        "id": "W2r4wPBla8-1"
      },
      "execution_count": 98,
      "outputs": []
    },
    {
      "cell_type": "code",
      "source": [
        "import nltk\n",
        "nltk.download('stopwords')\n",
        "nltk.download('punkt')"
      ],
      "metadata": {
        "colab": {
          "base_uri": "https://localhost:8080/"
        },
        "id": "rwucD8Ygc5ly",
        "outputId": "45274b2d-51f3-439f-a899-8f75a3532111"
      },
      "execution_count": 99,
      "outputs": [
        {
          "output_type": "stream",
          "name": "stderr",
          "text": [
            "[nltk_data] Downloading package stopwords to /root/nltk_data...\n",
            "[nltk_data]   Package stopwords is already up-to-date!\n",
            "[nltk_data] Downloading package punkt to /root/nltk_data...\n",
            "[nltk_data]   Package punkt is already up-to-date!\n"
          ]
        },
        {
          "output_type": "execute_result",
          "data": {
            "text/plain": [
              "True"
            ]
          },
          "metadata": {},
          "execution_count": 99
        }
      ]
    },
    {
      "cell_type": "code",
      "source": [
        "x, y = np.asarray(df_tot['content_tuit']), np.asarray(df_tot['type'])\n",
        "x_limpieza = [limpia_tuit_sp(t) for t in x]"
      ],
      "metadata": {
        "id": "L-Fr1i8LcacY"
      },
      "execution_count": 100,
      "outputs": []
    },
    {
      "cell_type": "code",
      "source": [
        "df_tot.tail(7)"
      ],
      "metadata": {
        "id": "1nosMAU_Yj44"
      },
      "execution_count": null,
      "outputs": []
    },
    {
      "cell_type": "code",
      "source": [
        "print(x_limpieza[116])"
      ],
      "metadata": {
        "id": "vCQkck5zd5UW"
      },
      "execution_count": null,
      "outputs": []
    },
    {
      "cell_type": "code",
      "source": [
        "print(df_tot['content_tuit'][116])"
      ],
      "metadata": {
        "id": "k1zvUxO7eTRp"
      },
      "execution_count": null,
      "outputs": []
    },
    {
      "cell_type": "code",
      "source": [
        "from sklearn.feature_extraction.text import CountVectorizer"
      ],
      "metadata": {
        "id": "uvJL1feqyWD5"
      },
      "execution_count": 104,
      "outputs": []
    },
    {
      "cell_type": "code",
      "source": [
        "onegram_vectorizer = CountVectorizer()"
      ],
      "metadata": {
        "id": "5z6tiyq9yRbt"
      },
      "execution_count": 105,
      "outputs": []
    },
    {
      "cell_type": "code",
      "source": [
        "X = onegram_vectorizer.fit_transform(x_limpieza).toarray()"
      ],
      "metadata": {
        "id": "0AWdevRSyZZp"
      },
      "execution_count": 106,
      "outputs": []
    },
    {
      "cell_type": "code",
      "source": [
        "from sklearn import svm\n",
        "from sklearn.model_selection import train_test_split"
      ],
      "metadata": {
        "id": "wkO29dasyyW7"
      },
      "execution_count": 107,
      "outputs": []
    },
    {
      "cell_type": "code",
      "source": [
        "x_train, x_test, y_train, y_test = train_test_split(X, y)\n",
        "clf = svm.SVC()"
      ],
      "metadata": {
        "id": "4m8QUflzymgv"
      },
      "execution_count": 108,
      "outputs": []
    },
    {
      "cell_type": "code",
      "source": [
        "clf.fit(x_train, y_train)"
      ],
      "metadata": {
        "id": "NW1GEYgYzKi6"
      },
      "execution_count": null,
      "outputs": []
    },
    {
      "cell_type": "code",
      "source": [
        "clf.score(x_test, y_test)"
      ],
      "metadata": {
        "id": "aKLTbiFjzvKl"
      },
      "execution_count": null,
      "outputs": []
    },
    {
      "cell_type": "code",
      "source": [
        "clf.set_params(kernel='rbf').fit(x_train, y_train)"
      ],
      "metadata": {
        "id": "dI_R2Wut0lJw"
      },
      "execution_count": null,
      "outputs": []
    },
    {
      "cell_type": "code",
      "source": [
        "clf.score(x_test, y_test)"
      ],
      "metadata": {
        "id": "l-swizTd1CO0"
      },
      "execution_count": null,
      "outputs": []
    }
  ]
}