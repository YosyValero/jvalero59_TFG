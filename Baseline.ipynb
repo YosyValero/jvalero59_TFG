{
  "nbformat": 4,
  "nbformat_minor": 0,
  "metadata": {
    "colab": {
      "provenance": [],
      "authorship_tag": "ABX9TyPQvPpzPUrR4SvUsUU3gf2n",
      "include_colab_link": true
    },
    "kernelspec": {
      "name": "python3",
      "display_name": "Python 3"
    },
    "language_info": {
      "name": "python"
    }
  },
  "cells": [
    {
      "cell_type": "markdown",
      "metadata": {
        "id": "view-in-github",
        "colab_type": "text"
      },
      "source": [
        "<a href=\"https://colab.research.google.com/github/YosyValero/jvalero59_TFG/blob/main/Baseline.ipynb\" target=\"_parent\"><img src=\"https://colab.research.google.com/assets/colab-badge.svg\" alt=\"Open In Colab\"/></a>"
      ]
    },
    {
      "cell_type": "markdown",
      "source": [
        "Baseline TFG"
      ],
      "metadata": {
        "id": "WY1THrOyGrbc"
      }
    },
    {
      "cell_type": "code",
      "source": [
        "from google.colab import drive\n",
        "drive.mount('/content/drive')"
      ],
      "metadata": {
        "colab": {
          "base_uri": "https://localhost:8080/"
        },
        "id": "xT2E9pvtQh8Y",
        "outputId": "92369af3-e0cc-4c8c-e743-b47fbb4fc82f"
      },
      "execution_count": 2,
      "outputs": [
        {
          "output_type": "stream",
          "name": "stdout",
          "text": [
            "Mounted at /content/drive\n"
          ]
        }
      ]
    },
    {
      "cell_type": "code",
      "source": [
        "import numpy as np\n",
        "import pandas as pd"
      ],
      "metadata": {
        "id": "_3mOeO3iGylD"
      },
      "execution_count": 3,
      "outputs": []
    },
    {
      "cell_type": "code",
      "source": [
        "path_tsv = '/content/drive/MyDrive/Dataset/tsv/'"
      ],
      "metadata": {
        "id": "hH034l0zPz7_"
      },
      "execution_count": 4,
      "outputs": []
    },
    {
      "cell_type": "code",
      "source": [
        "df_dissea =  pd.read_csv(path_tsv + 'dissea.tsv', sep='\\t', header=0).loc[:, ('tweets_id', 'type')].rename(columns={'tweets_id': 'tweet_id'})"
      ],
      "metadata": {
        "id": "uleeDwThUX26"
      },
      "execution_count": 5,
      "outputs": []
    },
    {
      "cell_type": "code",
      "source": [
        "df_prof =  pd.read_csv(path_tsv + 'prof.tsv', sep='\\t', header=0).loc[:, ('tweet_id', 'type')]"
      ],
      "metadata": {
        "id": "8YdwbjLAWcZ0"
      },
      "execution_count": 6,
      "outputs": []
    },
    {
      "cell_type": "code",
      "source": [
        "df_prof.drop(df_prof[df_prof['type']=='-'].index, inplace=True)"
      ],
      "metadata": {
        "id": "Wpoj9mOY1NxX"
      },
      "execution_count": 7,
      "outputs": []
    },
    {
      "cell_type": "code",
      "source": [
        "df_prof = df_prof.replace(['PROFESION', 'SITUACION_LABORAL', 'ACTIVIDAD', 'FIGURATIVA'], ['NO_ENFERMEDAD', 'NO_ENFERMEDAD', 'NO_ENFERMEDAD', 'NO_ENFERMEDAD'])"
      ],
      "metadata": {
        "id": "DqlmZ5hvd-NZ"
      },
      "execution_count": 8,
      "outputs": []
    },
    {
      "cell_type": "code",
      "source": [
        "df_prof_norep = df_prof.drop_duplicates(ignore_index=True)"
      ],
      "metadata": {
        "id": "IJgf8uPRW4qO"
      },
      "execution_count": 9,
      "outputs": []
    },
    {
      "cell_type": "code",
      "source": [
        "df_disse_norep = df_dissea.drop_duplicates(ignore_index=True)"
      ],
      "metadata": {
        "id": "Ets8SUnuXFGa"
      },
      "execution_count": 10,
      "outputs": []
    },
    {
      "cell_type": "code",
      "source": [
        "muestras_min = min([len(df_disse_norep), len(df_prof_norep)])"
      ],
      "metadata": {
        "id": "q4YS-Ail8rhO"
      },
      "execution_count": 11,
      "outputs": []
    },
    {
      "cell_type": "code",
      "source": [
        "muestras = 50"
      ],
      "metadata": {
        "id": "U0oTuuHM9PL6"
      },
      "execution_count": 12,
      "outputs": []
    },
    {
      "cell_type": "code",
      "source": [
        "if muestras_min < muestras:\n",
        "  muestras = muestras_min"
      ],
      "metadata": {
        "id": "HYM9QyOs9Tpe"
      },
      "execution_count": 13,
      "outputs": []
    },
    {
      "cell_type": "code",
      "source": [
        "df_xamples_diss = df_disse_norep.head(muestras)"
      ],
      "metadata": {
        "id": "yMARCWkE-rMp"
      },
      "execution_count": 14,
      "outputs": []
    },
    {
      "cell_type": "code",
      "source": [
        "df_xamples_nodiss = df_prof_norep.head(muestras)"
      ],
      "metadata": {
        "id": "rvS4Gswk-ro5"
      },
      "execution_count": 15,
      "outputs": []
    },
    {
      "cell_type": "code",
      "source": [
        "df_xamples_nodiss = df_xamples_nodiss.rename(index=lambda x: x + muestras)"
      ],
      "metadata": {
        "id": "6GOQ8tqf_gPC"
      },
      "execution_count": 16,
      "outputs": []
    },
    {
      "cell_type": "code",
      "source": [
        "df_tot = pd.concat([df_xamples_diss, df_xamples_nodiss])\n"
      ],
      "metadata": {
        "id": "4VQzl_Q5Wfbc"
      },
      "execution_count": 17,
      "outputs": []
    },
    {
      "cell_type": "code",
      "source": [
        "df_tot"
      ],
      "metadata": {
        "id": "0wprg7-AL6s5"
      },
      "execution_count": null,
      "outputs": []
    },
    {
      "cell_type": "code",
      "source": [
        "df_tot.insert(2, 'content_tuit', value='')"
      ],
      "metadata": {
        "id": "SA29vXs15MB7"
      },
      "execution_count": 19,
      "outputs": []
    },
    {
      "cell_type": "code",
      "source": [
        "def get_tuit(type_tuit, name_tuit):\n",
        "  sub_path = path_tsv + 'train-valid-txt-files/'\n",
        "  if type_tuit == 'ENFERMEDAD':\n",
        "    path_tuit = sub_path + 'dissea'\n",
        "  else:\n",
        "    path_tuit = sub_path + 'prof'\n",
        "\n",
        "  path_tuit = path_tuit + '/training/' + name_tuit + '.txt'\n",
        "  tuit = open(path_tuit, mode='r', encoding='utf-8')\n",
        "  content_tuit = tuit.read()\n",
        "  tuit.close()\n",
        "\n",
        "  return content_tuit"
      ],
      "metadata": {
        "id": "Wu5FZ0wWGj7h"
      },
      "execution_count": 20,
      "outputs": []
    },
    {
      "cell_type": "code",
      "source": [
        "for i in range(len(df_tot)):\n",
        "    name_tuit = df_tot.loc[i, 'tweet_id']\n",
        "    type_tuit = df_tot.loc[i, 'type']\n",
        "    df_tot.at[i, 'content_tuit'] = get_tuit(type_tuit, str(name_tuit))"
      ],
      "metadata": {
        "id": "P14yy2l2VZCc"
      },
      "execution_count": 21,
      "outputs": []
    },
    {
      "cell_type": "code",
      "source": [
        "df_tot"
      ],
      "metadata": {
        "id": "1nosMAU_Yj44"
      },
      "execution_count": null,
      "outputs": []
    },
    {
      "cell_type": "code",
      "source": [
        "import re\n",
        "from nltk.corpus import stopwords\n",
        "from nltk.tokenize import word_tokenize"
      ],
      "metadata": {
        "id": "RT7ft80gam3e"
      },
      "execution_count": 22,
      "outputs": []
    },
    {
      "cell_type": "code",
      "source": [
        "symbols = [\n",
        "    '¿','?','~','`','!','¡','@','$','%','^',\n",
        "    '*','(',')','_','-','+','=','{','}','[',\n",
        "    ']','\\\\',';','<','>','/', '.', ',','&','\\n'\n",
        "    ,'\\r','\\t', '|', '“', '\"', '–', '”', '©', '-', '—',\n",
        "    '…', ';', ':', '‘','’', '...', '#', '«', '»', '``',\n",
        "    \"''\", '..', '...', '--'\n",
        "]"
      ],
      "metadata": {
        "id": "MHHde3e4a1-V"
      },
      "execution_count": 23,
      "outputs": []
    },
    {
      "cell_type": "code",
      "source": [
        "def remove_emoji(string):\n",
        "    emoji_pattern = re.compile(\"[\"\n",
        "                               u\"\\U0001F600-\\U0001F64F\"  # emoticons\n",
        "                               u\"\\U0001F300-\\U0001F5FF\"  # symbols & pictographs\n",
        "                               u\"\\U0001F680-\\U0001F6FF\"  # transport & map symbols\n",
        "                               u\"\\U0001F1E0-\\U0001F1FF\"  # flags (iOS)\n",
        "                               u\"\\U00002500-\\U00002BEF\"  # chinese char\n",
        "                               u\"\\U00002702-\\U000027B0\"\n",
        "                               u\"\\U00002702-\\U000027B0\"\n",
        "                               u\"\\U000024C2-\\U0001F251\"\n",
        "                               u\"\\U0001f926-\\U0001f937\"\n",
        "                               u\"\\U00010000-\\U0010ffff\"\n",
        "                               u\"\\u2640-\\u2642\"\n",
        "                               u\"\\u2600-\\u2B55\"\n",
        "                               u\"\\u200d\"\n",
        "                               u\"\\u23cf\"\n",
        "                               u\"\\u23e9\"\n",
        "                               u\"\\u231a\"\n",
        "                               u\"\\ufe0f\"  # dingbats\n",
        "                               u\"\\u3030\"\n",
        "                               \"]+\", flags=re.UNICODE)\n",
        "    return emoji_pattern.sub(r'', string)"
      ],
      "metadata": {
        "id": "6_k_Bi-5afzR"
      },
      "execution_count": 24,
      "outputs": []
    },
    {
      "cell_type": "code",
      "source": [
        "def limpia_tuit_sp(text):\n",
        "    str_limp = \"\"\n",
        "    stp_wors_mas_sym = stopwords.words('spanish') + symbols\n",
        "\n",
        "    # Eliminamos las urls de los tuits\n",
        "    text = re.sub('http[s]*://[a-zA-Z0-9/.-]*|www.[a-zA-Z0-9/.-]*', '', text)\n",
        "\n",
        "    # Eliminamos numeros\n",
        "    text = re.sub('[0-9]*','', text)\n",
        "    # print(text)\n",
        "\n",
        "    # Eliminamos emoticonos\n",
        "    text = remove_emoji(text)\n",
        "\n",
        "    # Eliminamos otros caracteres\n",
        "    text = re.sub('[¿,_,?,¡,!,-]*','', text)\n",
        "\n",
        "    # Tokenizamos los tuits\n",
        "    text_tok = word_tokenize(text)\n",
        "    for t_tok in text_tok:\n",
        "        if not t_tok in stp_wors_mas_sym:\n",
        "            str_limp = str_limp + \" \" + t_tok\n",
        "    str_limp =  str_limp.lower()\n",
        "    return str_limp"
      ],
      "metadata": {
        "id": "W2r4wPBla8-1"
      },
      "execution_count": 25,
      "outputs": []
    },
    {
      "cell_type": "code",
      "source": [
        "import nltk\n",
        "nltk.download('stopwords')\n",
        "nltk.download('punkt')"
      ],
      "metadata": {
        "id": "rwucD8Ygc5ly"
      },
      "execution_count": null,
      "outputs": []
    },
    {
      "cell_type": "markdown",
      "source": [
        "### A partir del dataset convertimos los tuits y sus type (ENFERMEDAD, NO_ENFERMEDAD) en 2 arrays"
      ],
      "metadata": {
        "id": "Bnfw338oKFEW"
      }
    },
    {
      "cell_type": "code",
      "source": [
        "x, y = np.asarray(df_tot['content_tuit']), np.asarray(df_tot['type'])\n"
      ],
      "metadata": {
        "id": "L-Fr1i8LcacY"
      },
      "execution_count": 116,
      "outputs": []
    },
    {
      "cell_type": "code",
      "source": [
        "# Troceamos el dataset en crudo con vines didácticos\n",
        "x_train_raw, x_test_raw, y_train_raw, y_test_raw = train_test_split(x, y, train_size=70, random_state=42)"
      ],
      "metadata": {
        "id": "upsCqDDivnf5"
      },
      "execution_count": 117,
      "outputs": []
    },
    {
      "cell_type": "markdown",
      "source": [
        "Limpiamos los tuit"
      ],
      "metadata": {
        "id": "Vd0xaDOnNX5C"
      }
    },
    {
      "cell_type": "code",
      "source": [
        "tuits_limpios = [limpia_tuit_sp(t) for t in x]"
      ],
      "metadata": {
        "id": "Ou_KEqEhGO6f"
      },
      "execution_count": 74,
      "outputs": []
    },
    {
      "cell_type": "markdown",
      "source": [
        "### Conversión de los datos textuales a númericos, usos:\n",
        "*   CountVectorizer\n",
        "*   Tfidf"
      ],
      "metadata": {
        "id": "s6CBXOU_JbtS"
      }
    },
    {
      "cell_type": "code",
      "source": [
        "from sklearn.feature_extraction.text import CountVectorizer, TfidfVectorizer"
      ],
      "metadata": {
        "id": "uvJL1feqyWD5"
      },
      "execution_count": 75,
      "outputs": []
    },
    {
      "cell_type": "code",
      "source": [
        "count_vectorizer = CountVectorizer()\n",
        "X_numer_count = count_vectorizer.fit_transform(tuits_limpios).toarray()"
      ],
      "metadata": {
        "id": "5z6tiyq9yRbt"
      },
      "execution_count": 136,
      "outputs": []
    },
    {
      "cell_type": "code",
      "source": [
        "tfid_vectorizer = TfidfVectorizer()\n",
        "X_numer_tfid = tfid_vectorizer.fit_transform(tuits_limpios).toarray()"
      ],
      "metadata": {
        "id": "UREOBGJKVQrx"
      },
      "execution_count": 77,
      "outputs": []
    },
    {
      "cell_type": "markdown",
      "source": [
        "### Importamos las librerias para implementar el modelo mediante Support Vector Mahine y la división del dataset es subset entrenamiento (train) y testeo (test)"
      ],
      "metadata": {
        "id": "WdEUqsv_N3Jx"
      }
    },
    {
      "cell_type": "code",
      "source": [
        "from sklearn import svm\n",
        "from sklearn.model_selection import train_test_split\n",
        "clf = svm.SVC(kernel='linear')"
      ],
      "metadata": {
        "id": "wkO29dasyyW7"
      },
      "execution_count": 137,
      "outputs": []
    },
    {
      "cell_type": "markdown",
      "source": [
        "SVM_CountVectorized"
      ],
      "metadata": {
        "id": "btaDCQhIWwyb"
      }
    },
    {
      "cell_type": "code",
      "source": [
        "x_train, x_test, y_train, y_test = train_test_split(X_numer_count, y, train_size=70, random_state=42)\n",
        "clf.fit(x_train, y_train)"
      ],
      "metadata": {
        "id": "4m8QUflzymgv",
        "colab": {
          "base_uri": "https://localhost:8080/",
          "height": 75
        },
        "outputId": "d86ac144-9275-4e55-e83c-40550bcbe472"
      },
      "execution_count": 138,
      "outputs": [
        {
          "output_type": "execute_result",
          "data": {
            "text/plain": [
              "SVC(kernel='linear')"
            ],
            "text/html": [
              "<style>#sk-container-id-4 {color: black;background-color: white;}#sk-container-id-4 pre{padding: 0;}#sk-container-id-4 div.sk-toggleable {background-color: white;}#sk-container-id-4 label.sk-toggleable__label {cursor: pointer;display: block;width: 100%;margin-bottom: 0;padding: 0.3em;box-sizing: border-box;text-align: center;}#sk-container-id-4 label.sk-toggleable__label-arrow:before {content: \"▸\";float: left;margin-right: 0.25em;color: #696969;}#sk-container-id-4 label.sk-toggleable__label-arrow:hover:before {color: black;}#sk-container-id-4 div.sk-estimator:hover label.sk-toggleable__label-arrow:before {color: black;}#sk-container-id-4 div.sk-toggleable__content {max-height: 0;max-width: 0;overflow: hidden;text-align: left;background-color: #f0f8ff;}#sk-container-id-4 div.sk-toggleable__content pre {margin: 0.2em;color: black;border-radius: 0.25em;background-color: #f0f8ff;}#sk-container-id-4 input.sk-toggleable__control:checked~div.sk-toggleable__content {max-height: 200px;max-width: 100%;overflow: auto;}#sk-container-id-4 input.sk-toggleable__control:checked~label.sk-toggleable__label-arrow:before {content: \"▾\";}#sk-container-id-4 div.sk-estimator input.sk-toggleable__control:checked~label.sk-toggleable__label {background-color: #d4ebff;}#sk-container-id-4 div.sk-label input.sk-toggleable__control:checked~label.sk-toggleable__label {background-color: #d4ebff;}#sk-container-id-4 input.sk-hidden--visually {border: 0;clip: rect(1px 1px 1px 1px);clip: rect(1px, 1px, 1px, 1px);height: 1px;margin: -1px;overflow: hidden;padding: 0;position: absolute;width: 1px;}#sk-container-id-4 div.sk-estimator {font-family: monospace;background-color: #f0f8ff;border: 1px dotted black;border-radius: 0.25em;box-sizing: border-box;margin-bottom: 0.5em;}#sk-container-id-4 div.sk-estimator:hover {background-color: #d4ebff;}#sk-container-id-4 div.sk-parallel-item::after {content: \"\";width: 100%;border-bottom: 1px solid gray;flex-grow: 1;}#sk-container-id-4 div.sk-label:hover label.sk-toggleable__label {background-color: #d4ebff;}#sk-container-id-4 div.sk-serial::before {content: \"\";position: absolute;border-left: 1px solid gray;box-sizing: border-box;top: 0;bottom: 0;left: 50%;z-index: 0;}#sk-container-id-4 div.sk-serial {display: flex;flex-direction: column;align-items: center;background-color: white;padding-right: 0.2em;padding-left: 0.2em;position: relative;}#sk-container-id-4 div.sk-item {position: relative;z-index: 1;}#sk-container-id-4 div.sk-parallel {display: flex;align-items: stretch;justify-content: center;background-color: white;position: relative;}#sk-container-id-4 div.sk-item::before, #sk-container-id-4 div.sk-parallel-item::before {content: \"\";position: absolute;border-left: 1px solid gray;box-sizing: border-box;top: 0;bottom: 0;left: 50%;z-index: -1;}#sk-container-id-4 div.sk-parallel-item {display: flex;flex-direction: column;z-index: 1;position: relative;background-color: white;}#sk-container-id-4 div.sk-parallel-item:first-child::after {align-self: flex-end;width: 50%;}#sk-container-id-4 div.sk-parallel-item:last-child::after {align-self: flex-start;width: 50%;}#sk-container-id-4 div.sk-parallel-item:only-child::after {width: 0;}#sk-container-id-4 div.sk-dashed-wrapped {border: 1px dashed gray;margin: 0 0.4em 0.5em 0.4em;box-sizing: border-box;padding-bottom: 0.4em;background-color: white;}#sk-container-id-4 div.sk-label label {font-family: monospace;font-weight: bold;display: inline-block;line-height: 1.2em;}#sk-container-id-4 div.sk-label-container {text-align: center;}#sk-container-id-4 div.sk-container {/* jupyter's `normalize.less` sets `[hidden] { display: none; }` but bootstrap.min.css set `[hidden] { display: none !important; }` so we also need the `!important` here to be able to override the default hidden behavior on the sphinx rendered scikit-learn.org. See: https://github.com/scikit-learn/scikit-learn/issues/21755 */display: inline-block !important;position: relative;}#sk-container-id-4 div.sk-text-repr-fallback {display: none;}</style><div id=\"sk-container-id-4\" class=\"sk-top-container\"><div class=\"sk-text-repr-fallback\"><pre>SVC(kernel=&#x27;linear&#x27;)</pre><b>In a Jupyter environment, please rerun this cell to show the HTML representation or trust the notebook. <br />On GitHub, the HTML representation is unable to render, please try loading this page with nbviewer.org.</b></div><div class=\"sk-container\" hidden><div class=\"sk-item\"><div class=\"sk-estimator sk-toggleable\"><input class=\"sk-toggleable__control sk-hidden--visually\" id=\"sk-estimator-id-4\" type=\"checkbox\" checked><label for=\"sk-estimator-id-4\" class=\"sk-toggleable__label sk-toggleable__label-arrow\">SVC</label><div class=\"sk-toggleable__content\"><pre>SVC(kernel=&#x27;linear&#x27;)</pre></div></div></div></div></div>"
            ]
          },
          "metadata": {},
          "execution_count": 138
        }
      ]
    },
    {
      "cell_type": "markdown",
      "source": [
        "Se va a probar la prección del modelo definido utilizado algunos tuits del subset test"
      ],
      "metadata": {
        "id": "GuDicGRmuJbT"
      }
    },
    {
      "cell_type": "code",
      "source": [
        "tuits_pruebas_limpios = [limpia_tuit_sp(t) for t in x_test_raw]"
      ],
      "metadata": {
        "id": "AVJjJ2BNw9Sj"
      },
      "execution_count": 139,
      "outputs": []
    },
    {
      "cell_type": "code",
      "source": [
        "for x_tuit, y_tuit in zip(tuits_pruebas_limpios, y_test_raw):\n",
        "  print(x_tuit, y_tuit)\n"
      ],
      "metadata": {
        "colab": {
          "base_uri": "https://localhost:8080/"
        },
        "id": "bPl9Q6mKyJ67",
        "outputId": "5902831d-abdf-4fe1-ca00-36b2079acedf"
      },
      "execution_count": 140,
      "outputs": [
        {
          "output_type": "stream",
          "name": "stdout",
          "text": [
            " libertad expresión atacar jueces libertad expresión atacar rey mitad pandemia mientras reclaman unidad pero vox libertad expresion criticar inigualable gestión sanitaria gobierno no límite NO_ENFERMEDAD\n",
            " teresa ribera ministra podemita transición ecológica tocarse huevos pregunta porqué portugal menos infectados fallecidos españa responde virus viene este oeste en manos cobra .€ mes NO_ENFERMEDAD\n",
            " foodtrucks ofrecen caldo caliente bebidas bocadillos transportistas mercamadridhoy vía madridiario solidaridad yomequedoencasa foodtruck NO_ENFERMEDAD\n",
            " me pesa publicar quisiera trabajar les mando abrazo dejo canal you tube muchas charlas informativas tdah autismo nurodiversidad trastorno estres postraumático depresión ansiedad ENFERMEDAD\n",
            " yo asperger esquizofrenia según respuesta puede tener ambos diagnósticos entonces puedo tener síndrome asperger si esquizofrenia ENFERMEDAD\n",
            " ayer tomé super combo antihistamínicos pseudoefedrina hoy acabo desayunar enanthyum fuertota gripe vacuna reinas imaginad si vez gripe covid dos dosis pfizer me mato ENFERMEDAD\n",
            " el síndrome covid persistente paralelismos fibromialgia síndrome fatiga crónica neuroekin en teoría tto baso resultados obtenidos enfermos imagen estudios laboratorio demostrarlo ENFERMEDAD\n",
            " fuerza letal maras el salvador plena pandemia coronavirus las pandillas asesinaron personas pasado fin semana plena crisis sanitaria el gobierno aislado pandilleros presos autorizado policía usar fuerza NO_ENFERMEDAD\n",
            " hay alguna vacuna parte covid necesite dosis ilrapha porque verdad recuerdo última vez vacune me refiero ejemplo sarampión tuberculosis etc ENFERMEDAD\n",
            " no sé si alergia covid gripe solo espero si sobrevivo ENFERMEDAD\n",
            " espero alguien sienta identificada conmigo estoy situacion llevar casi año dejé fumar puse peso pandemia confinamiento ansiedad tengo bronquitis cronica enfisema sigue ENFERMEDAD\n",
            " siempre sufrido sueños vividos parálisis sueño cada vez detallados ahora soñé abducida aliens justo sueño regresaban aquí dio parálisis desperté ahorita quiero parasomnias ENFERMEDAD\n",
            " mossos baja covid y semanas hace test pues irenos sumando bajas altas pueden trabajar test lujazo gestión NO_ENFERMEDAD\n",
            " mi urostomia dado da muchas complicaciones hernia estenosis hidronefrosis crònica muchas infecciones aquí libre cáncer viviendo nunca ENFERMEDAD\n",
            " coronavirus the hammer and the dance próximos meses si líderes ganan tiempo articulo covid m visitas tomaspueyo traducido revisión autor tito hubert patrícia llano NO_ENFERMEDAD\n",
            " santiago córdoba enteré tan malito yo quiero abrazos sigues tan didáctico positivo espero gente entienda artículo importancia contener momento covid otoño vuelva gripe ENFERMEDAD\n",
            " sabado junio agresión cataluña franqueses vallés renfe llevar ciudadano mascarilla si pañuelo tapándose boca agresiones seguratas mujer llevaban mascarillas si agreden usuarios vagón tren NO_ENFERMEDAD\n",
            " en comunicado asociación española pediatría tema confinamiento entiendo rectififación illa viene frase trasladó ministerio sanidad el gobierno hizo caso pediatras españoles primer anuncio NO_ENFERMEDAD\n",
            " cualquiera puede sufrir convulsión menos vez vida y ello significa epilepsia en blog explicamos forma píldoras notas interesantes tema epilepsia ENFERMEDAD\n",
            " cada día cerca aceptación total aún momentos negación depresión lucho todas fuerzas perdida salud compensada gran aprendizaje pacientesqcuentan ENFERMEDAD\n",
            " la jueza descarta relación m contagios coronavirus misma instruyó casos masters cristina cifuentes pablo casado sonaba futura directora guardia civil psoe NO_ENFERMEDAD\n",
            " que directora centro nacional epidemiología diga febrero decir epidemia país tomamos fake lapsus sologripismo es acabo liando NO_ENFERMEDAD\n",
            " partimos caracterización usuarios especialistas clínicos proporcionan listas palabras frases relacionadas ciertos problemas mentales suicidio depresión tca de modo automático filtramos anonimizamos tweets posterior análisis ENFERMEDAD\n",
            " os/as logopedas somos profesionais especializados avaliamos intervimos trastornos da deglutición adaptamos deseñamos intervención función da avaliación cada paciente buscamos mellorar calidade vida das persoas disfaxia ENFERMEDAD\n",
            " la presidenta atrevia nuriavilanova fakenews pandemia información desinformación covid imperdible arubiocampana cmediavilla albertopozas armariodiego basiliorogado estherppunto rodriguezbraun nievesherrero jordix ionantolin javijgolf NO_ENFERMEDAD\n",
            " yo entiendo sistemas salud actuales exámenes adecuados detectar alergias intolerancias desafortunadamente toca lucharlos conozco muchas personas diagnóstico adulto celiaquía deberíamos hacer experimentos retoños ENFERMEDAD\n",
            " me presento años con diabetes con ganas de compartir experiencia hola llevo diabetes tipo meses ahora mismo años apunto si experiencia puede ayudar alguien s leer diabetes diabetesp ENFERMEDAD\n",
            " mientras hace negocio vendiendo mascarillas parece jesús candel spiriman parecen importarle bien vidas juego en alarde bipolaridad ahora insta saltarse confinamiento dejarse contagiar y tipo médico NO_ENFERMEDAD\n",
            " aquí vamos compartí video enterarme diagnóstico diabetes nuevavida cambios ENFERMEDAD\n",
            " impresionante labor asociación gallega solidaridad pueblo saharaui sogapsoficial apoyar personal sanitario lucha coronavirus tvgalicia xunta NO_ENFERMEDAD\n"
          ]
        }
      ]
    },
    {
      "cell_type": "code",
      "source": [
        "docs_news = ['Sin él, mi agorafobia era soportable, al igual que mi ansiedad: el tabaco potencia nuestras taras físicas y psicológicas. No me veía yo por el Amazonas en una lancha con mi cámara y con una crisis de pánico, previa crisis de ansiedad, previa hiperventilación.',\\\n",
        "            '\"Aspiramos a individualizar el tratamiento en trombosis y cáncer y para esto tenemos que buscar biomarcadores\"  Dra Vanesa Pachón #cáncer #revisionesencáncer #RevCáncer2019 #oncología']\n",
        "docs_news_limpios = [limpia_tuit_sp(t) for t in docs_news]"
      ],
      "metadata": {
        "id": "o59ID6rksF5c"
      },
      "execution_count": 141,
      "outputs": []
    },
    {
      "cell_type": "code",
      "source": [
        "docs_news_count = count_vectorizer.transform(docs_news_limpios).toarray()"
      ],
      "metadata": {
        "id": "yn5k5HslsJcW"
      },
      "execution_count": 142,
      "outputs": []
    },
    {
      "cell_type": "code",
      "source": [
        "predicted = clf.predict(docs_news_count)\n",
        "for doc, categoria in zip(docs_news, predicted):\n",
        "    print('%r => %s' % (doc, categoria))\n",
        "print()"
      ],
      "metadata": {
        "colab": {
          "base_uri": "https://localhost:8080/"
        },
        "id": "jp-1l0HOsudh",
        "outputId": "1ec52845-8545-438f-d104-9b7fb4e86104"
      },
      "execution_count": 143,
      "outputs": [
        {
          "output_type": "stream",
          "name": "stdout",
          "text": [
            "'Sin él, mi agorafobia era soportable, al igual que mi ansiedad: el tabaco potencia nuestras taras físicas y psicológicas. No me veía yo por el Amazonas en una lancha con mi cámara y con una crisis de pánico, previa crisis de ansiedad, previa hiperventilación.' => ENFERMEDAD\n",
            "'\"Aspiramos a individualizar el tratamiento en trombosis y cáncer y para esto tenemos que buscar biomarcadores\"  Dra Vanesa Pachón #cáncer #revisionesencáncer #RevCáncer2019 #oncología' => ENFERMEDAD\n",
            "\n"
          ]
        }
      ]
    },
    {
      "cell_type": "code",
      "source": [
        "tuits_pruebas_count = count_vectorizer.transform(tuits_pruebas_limpios).toarray()"
      ],
      "metadata": {
        "id": "ctCwucW-0jvr"
      },
      "execution_count": 144,
      "outputs": []
    },
    {
      "cell_type": "code",
      "source": [
        "predicted = clf.predict(tuits_pruebas_count)\n",
        "for doc, categoria in zip(tuits_pruebas_limpios, predicted):\n",
        "    print('%r => %s' % (doc, categoria))\n",
        "print()"
      ],
      "metadata": {
        "colab": {
          "base_uri": "https://localhost:8080/"
        },
        "id": "Npm0kirZ00fS",
        "outputId": "5ac7b882-7a26-4025-bc82-5097d499bac2"
      },
      "execution_count": 146,
      "outputs": [
        {
          "output_type": "stream",
          "name": "stdout",
          "text": [
            "' libertad expresión atacar jueces libertad expresión atacar rey mitad pandemia mientras reclaman unidad pero vox libertad expresion criticar inigualable gestión sanitaria gobierno no límite' => NO_ENFERMEDAD\n",
            "' teresa ribera ministra podemita transición ecológica tocarse huevos pregunta porqué portugal menos infectados fallecidos españa responde virus viene este oeste en manos cobra .€ mes' => NO_ENFERMEDAD\n",
            "' foodtrucks ofrecen caldo caliente bebidas bocadillos transportistas mercamadridhoy vía madridiario solidaridad yomequedoencasa foodtruck' => NO_ENFERMEDAD\n",
            "' me pesa publicar quisiera trabajar les mando abrazo dejo canal you tube muchas charlas informativas tdah autismo nurodiversidad trastorno estres postraumático depresión ansiedad' => ENFERMEDAD\n",
            "' yo asperger esquizofrenia según respuesta puede tener ambos diagnósticos entonces puedo tener síndrome asperger si esquizofrenia' => NO_ENFERMEDAD\n",
            "' ayer tomé super combo antihistamínicos pseudoefedrina hoy acabo desayunar enanthyum fuertota gripe vacuna reinas imaginad si vez gripe covid dos dosis pfizer me mato' => ENFERMEDAD\n",
            "' el síndrome covid persistente paralelismos fibromialgia síndrome fatiga crónica neuroekin en teoría tto baso resultados obtenidos enfermos imagen estudios laboratorio demostrarlo' => ENFERMEDAD\n",
            "' fuerza letal maras el salvador plena pandemia coronavirus las pandillas asesinaron personas pasado fin semana plena crisis sanitaria el gobierno aislado pandilleros presos autorizado policía usar fuerza' => NO_ENFERMEDAD\n",
            "' hay alguna vacuna parte covid necesite dosis ilrapha porque verdad recuerdo última vez vacune me refiero ejemplo sarampión tuberculosis etc' => ENFERMEDAD\n",
            "' no sé si alergia covid gripe solo espero si sobrevivo' => ENFERMEDAD\n",
            "' espero alguien sienta identificada conmigo estoy situacion llevar casi año dejé fumar puse peso pandemia confinamiento ansiedad tengo bronquitis cronica enfisema sigue' => NO_ENFERMEDAD\n",
            "' siempre sufrido sueños vividos parálisis sueño cada vez detallados ahora soñé abducida aliens justo sueño regresaban aquí dio parálisis desperté ahorita quiero parasomnias' => NO_ENFERMEDAD\n",
            "' mossos baja covid y semanas hace test pues irenos sumando bajas altas pueden trabajar test lujazo gestión' => NO_ENFERMEDAD\n",
            "' mi urostomia dado da muchas complicaciones hernia estenosis hidronefrosis crònica muchas infecciones aquí libre cáncer viviendo nunca' => NO_ENFERMEDAD\n",
            "' coronavirus the hammer and the dance próximos meses si líderes ganan tiempo articulo covid m visitas tomaspueyo traducido revisión autor tito hubert patrícia llano' => NO_ENFERMEDAD\n",
            "' santiago córdoba enteré tan malito yo quiero abrazos sigues tan didáctico positivo espero gente entienda artículo importancia contener momento covid otoño vuelva gripe' => ENFERMEDAD\n",
            "' sabado junio agresión cataluña franqueses vallés renfe llevar ciudadano mascarilla si pañuelo tapándose boca agresiones seguratas mujer llevaban mascarillas si agreden usuarios vagón tren' => NO_ENFERMEDAD\n",
            "' en comunicado asociación española pediatría tema confinamiento entiendo rectififación illa viene frase trasladó ministerio sanidad el gobierno hizo caso pediatras españoles primer anuncio' => NO_ENFERMEDAD\n",
            "' cualquiera puede sufrir convulsión menos vez vida y ello significa epilepsia en blog explicamos forma píldoras notas interesantes tema epilepsia' => ENFERMEDAD\n",
            "' cada día cerca aceptación total aún momentos negación depresión lucho todas fuerzas perdida salud compensada gran aprendizaje pacientesqcuentan' => ENFERMEDAD\n",
            "' la jueza descarta relación m contagios coronavirus misma instruyó casos masters cristina cifuentes pablo casado sonaba futura directora guardia civil psoe' => NO_ENFERMEDAD\n",
            "' que directora centro nacional epidemiología diga febrero decir epidemia país tomamos fake lapsus sologripismo es acabo liando' => NO_ENFERMEDAD\n",
            "' partimos caracterización usuarios especialistas clínicos proporcionan listas palabras frases relacionadas ciertos problemas mentales suicidio depresión tca de modo automático filtramos anonimizamos tweets posterior análisis' => ENFERMEDAD\n",
            "' os/as logopedas somos profesionais especializados avaliamos intervimos trastornos da deglutición adaptamos deseñamos intervención función da avaliación cada paciente buscamos mellorar calidade vida das persoas disfaxia' => NO_ENFERMEDAD\n",
            "' la presidenta atrevia nuriavilanova fakenews pandemia información desinformación covid imperdible arubiocampana cmediavilla albertopozas armariodiego basiliorogado estherppunto rodriguezbraun nievesherrero jordix ionantolin javijgolf' => NO_ENFERMEDAD\n",
            "' yo entiendo sistemas salud actuales exámenes adecuados detectar alergias intolerancias desafortunadamente toca lucharlos conozco muchas personas diagnóstico adulto celiaquía deberíamos hacer experimentos retoños' => NO_ENFERMEDAD\n",
            "' me presento años con diabetes con ganas de compartir experiencia hola llevo diabetes tipo meses ahora mismo años apunto si experiencia puede ayudar alguien s leer diabetes diabetesp' => ENFERMEDAD\n",
            "' mientras hace negocio vendiendo mascarillas parece jesús candel spiriman parecen importarle bien vidas juego en alarde bipolaridad ahora insta saltarse confinamiento dejarse contagiar y tipo médico' => NO_ENFERMEDAD\n",
            "' aquí vamos compartí video enterarme diagnóstico diabetes nuevavida cambios' => NO_ENFERMEDAD\n",
            "' impresionante labor asociación gallega solidaridad pueblo saharaui sogapsoficial apoyar personal sanitario lucha coronavirus tvgalicia xunta' => NO_ENFERMEDAD\n",
            "\n"
          ]
        }
      ]
    },
    {
      "cell_type": "code",
      "source": [
        "clf.score(x_test, y_test)"
      ],
      "metadata": {
        "colab": {
          "base_uri": "https://localhost:8080/"
        },
        "id": "EcL2ur7Irl8S",
        "outputId": "7c505c87-a7c0-4e93-d9eb-4cfbde732f58"
      },
      "execution_count": 112,
      "outputs": [
        {
          "output_type": "execute_result",
          "data": {
            "text/plain": [
              "0.7666666666666667"
            ]
          },
          "metadata": {},
          "execution_count": 112
        }
      ]
    },
    {
      "cell_type": "markdown",
      "source": [
        "SVM_TfidfVectorizer"
      ],
      "metadata": {
        "id": "cwm_0FzIXdy7"
      }
    },
    {
      "cell_type": "code",
      "source": [
        "x_train, x_test, y_train, y_test = train_test_split(X_numer_tfid, y, train_size=70, random_state=42)\n",
        "clf.fit(x_train, y_train)\n",
        "clf.score(x_test, y_test)"
      ],
      "metadata": {
        "colab": {
          "base_uri": "https://localhost:8080/"
        },
        "id": "93abdU24XRgl",
        "outputId": "18aac564-fb1c-4297-8fa8-6b76b4daa809"
      },
      "execution_count": 101,
      "outputs": [
        {
          "output_type": "execute_result",
          "data": {
            "text/plain": [
              "0.5333333333333333"
            ]
          },
          "metadata": {},
          "execution_count": 101
        }
      ]
    },
    {
      "cell_type": "code",
      "source": [
        "clf.set_params(kernel='rbf').fit(x_train, y_train)"
      ],
      "metadata": {
        "id": "dI_R2Wut0lJw"
      },
      "execution_count": null,
      "outputs": []
    },
    {
      "cell_type": "code",
      "source": [
        "clf.score(x_test, y_test)"
      ],
      "metadata": {
        "id": "l-swizTd1CO0"
      },
      "execution_count": null,
      "outputs": []
    }
  ]
}