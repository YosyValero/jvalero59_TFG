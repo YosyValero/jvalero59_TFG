{
  "nbformat": 4,
  "nbformat_minor": 0,
  "metadata": {
    "colab": {
      "provenance": [],
      "authorship_tag": "ABX9TyPRyfXCODY+fmmdfLzMp1SV",
      "include_colab_link": true
    },
    "kernelspec": {
      "name": "python3",
      "display_name": "Python 3"
    },
    "language_info": {
      "name": "python"
    }
  },
  "cells": [
    {
      "cell_type": "markdown",
      "metadata": {
        "id": "view-in-github",
        "colab_type": "text"
      },
      "source": [
        "<a href=\"https://colab.research.google.com/github/YosyValero/jvalero59_TFG/blob/main/Baseline.ipynb\" target=\"_parent\"><img src=\"https://colab.research.google.com/assets/colab-badge.svg\" alt=\"Open In Colab\"/></a>"
      ]
    },
    {
      "cell_type": "markdown",
      "source": [
        "Baseline TFG"
      ],
      "metadata": {
        "id": "WY1THrOyGrbc"
      }
    },
    {
      "cell_type": "code",
      "execution_count": null,
      "metadata": {
        "id": "fmacMuG6nTqx"
      },
      "outputs": [],
      "source": [
        "from google.colab import drive\n",
        "drive.mount('/content/drive')"
      ]
    },
    {
      "cell_type": "code",
      "source": [
        "''' 16/06 = NO VALIDO ==> ruta = 'https://drive.google.com/drive/folders/1QO-S6eSqUXNwZt-oU6G5H1DwmN-vSbnC?usp=sharing'\n",
        "path_tsv = ruta + '/tsv/'\n",
        "'''"
      ],
      "metadata": {
        "id": "fC-3_GXid69_"
      },
      "execution_count": 220,
      "outputs": []
    },
    {
      "cell_type": "code",
      "source": [
        "import numpy as np\n",
        "import pandas as pd"
      ],
      "metadata": {
        "id": "_3mOeO3iGylD"
      },
      "execution_count": 223,
      "outputs": []
    },
    {
      "cell_type": "code",
      "source": [
        "path_tsv = '/content/drive/MyDrive/Dataset/tsv/'"
      ],
      "metadata": {
        "id": "RV8zi3D4Vk-y"
      },
      "execution_count": 224,
      "outputs": []
    },
    {
      "cell_type": "code",
      "source": [
        "df_dissea =  pd.read_csv(path_tsv + 'dissea.tsv', sep='\\t', header=0).loc[:, ('tweets_id', 'type')].rename(columns={'tweets_id': 'tweet_id'})"
      ],
      "metadata": {
        "id": "uleeDwThUX26"
      },
      "execution_count": 225,
      "outputs": []
    },
    {
      "cell_type": "code",
      "source": [
        "df_prof =  pd.read_csv(path_tsv + 'prof.tsv', sep='\\t', header=0).loc[:, ('tweet_id', 'type')]"
      ],
      "metadata": {
        "id": "8YdwbjLAWcZ0"
      },
      "execution_count": null,
      "outputs": []
    },
    {
      "cell_type": "code",
      "source": [
        "df_prof.drop(df_prof[df_prof['type']=='-'].index, inplace=True)"
      ],
      "metadata": {
        "id": "Wpoj9mOY1NxX"
      },
      "execution_count": null,
      "outputs": []
    },
    {
      "cell_type": "code",
      "source": [
        "df_prof = df_prof.replace(['PROFESION', 'SITUACION_LABORAL', 'ACTIVIDAD', 'FIGURATIVA'], ['NO_ENFERMEDAD', 'NO_ENFERMEDAD', 'NO_ENFERMEDAD', 'NO_ENFERMEDAD'])"
      ],
      "metadata": {
        "id": "DqlmZ5hvd-NZ"
      },
      "execution_count": null,
      "outputs": []
    },
    {
      "cell_type": "code",
      "source": [
        "df_prof_norep = df_prof.drop_duplicates(ignore_index=True)"
      ],
      "metadata": {
        "id": "IJgf8uPRW4qO"
      },
      "execution_count": null,
      "outputs": []
    },
    {
      "cell_type": "code",
      "source": [
        "df_disse_norep = df_dissea.drop_duplicates(ignore_index=True)"
      ],
      "metadata": {
        "id": "Ets8SUnuXFGa"
      },
      "execution_count": null,
      "outputs": []
    },
    {
      "cell_type": "code",
      "source": [
        "muestras_min = min([len(df_disse_norep), len(df_prof_norep)])"
      ],
      "metadata": {
        "id": "q4YS-Ail8rhO"
      },
      "execution_count": null,
      "outputs": []
    },
    {
      "cell_type": "code",
      "source": [
        "muestras = 600"
      ],
      "metadata": {
        "id": "U0oTuuHM9PL6"
      },
      "execution_count": null,
      "outputs": []
    },
    {
      "cell_type": "code",
      "source": [
        "if muestras_min < muestras:\n",
        "  muestras = muestras_min"
      ],
      "metadata": {
        "id": "HYM9QyOs9Tpe"
      },
      "execution_count": null,
      "outputs": []
    },
    {
      "cell_type": "code",
      "source": [
        "df_xamples_diss = df_disse_norep.head(muestras)"
      ],
      "metadata": {
        "id": "yMARCWkE-rMp"
      },
      "execution_count": null,
      "outputs": []
    },
    {
      "cell_type": "code",
      "source": [
        "df_xamples_nodiss = df_prof_norep.head(muestras)"
      ],
      "metadata": {
        "id": "rvS4Gswk-ro5"
      },
      "execution_count": null,
      "outputs": []
    },
    {
      "cell_type": "code",
      "source": [
        "df_xamples_nodiss = df_xamples_nodiss.rename(index=lambda x: x + muestras)"
      ],
      "metadata": {
        "id": "6GOQ8tqf_gPC"
      },
      "execution_count": null,
      "outputs": []
    },
    {
      "cell_type": "code",
      "source": [
        "df_tot = pd.concat([df_xamples_diss, df_xamples_nodiss])\n"
      ],
      "metadata": {
        "id": "4VQzl_Q5Wfbc"
      },
      "execution_count": null,
      "outputs": []
    },
    {
      "cell_type": "code",
      "source": [
        "df_tot.insert(2, 'content_tuit', value='')"
      ],
      "metadata": {
        "id": "SA29vXs15MB7"
      },
      "execution_count": null,
      "outputs": []
    },
    {
      "cell_type": "code",
      "source": [
        "def get_tuit(type_tuit, name_tuit):\n",
        "  sub_path = path_tsv + 'train-valid-txt-files/'\n",
        "  if type_tuit == 'ENFERMEDAD':\n",
        "    path_tuit = sub_path + 'dissea'\n",
        "  else:\n",
        "    path_tuit = sub_path + 'prof'\n",
        "\n",
        "  path_tuit = path_tuit + '/training/' + name_tuit + '.txt'\n",
        "  tuit = open(path_tuit, mode='r', encoding='utf-8')\n",
        "  content_tuit = tuit.read()\n",
        "  tuit.close()\n",
        "\n",
        "  return content_tuit"
      ],
      "metadata": {
        "id": "Wu5FZ0wWGj7h"
      },
      "execution_count": null,
      "outputs": []
    },
    {
      "cell_type": "code",
      "source": [
        "for i in range(len(df_tot)):\n",
        "    name_tuit = df_tot.loc[i, 'tweet_id']\n",
        "    type_tuit = df_tot.loc[i, 'type']\n",
        "    df_tot.at[i, 'content_tuit'] = get_tuit(type_tuit, str(name_tuit))"
      ],
      "metadata": {
        "id": "P14yy2l2VZCc"
      },
      "execution_count": null,
      "outputs": []
    },
    {
      "cell_type": "code",
      "source": [
        "df_tot"
      ],
      "metadata": {
        "id": "1nosMAU_Yj44"
      },
      "execution_count": null,
      "outputs": []
    }
  ]
}